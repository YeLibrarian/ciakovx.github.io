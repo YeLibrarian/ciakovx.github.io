{
  "cells": [
    {
      "metadata": {},
      "cell_type": "markdown",
      "source": "# `rorcid`\n\n`rorcid` is a package developed by [Scott Chamberlain](https://scottchamberlain.info/), co-founder of [rOpenSci](https://ropensci.org/), to serve as an interface to the ORCID API. \n\nYou can find more information about the API [on the ORCID site](http://members.orcid.org/api/about-public-api).\n\nCredit to Paul Oldham at https://www.pauloldham.net/introduction-to-orcid-with-rorcid/ for inspiring some of the structure and ideas throughout this document. I highly recommend reading it.\n\n# Licensing\n\nThis walkthrough is distributed under a [https://creativecommons.org/licenses/by/4.0/](Creative Commons Attribution 4.0 International (CC BY 4.0) License).\n\n<div>\n    <br>\n    <a>\n        <img src=\"images/ccby.png\" style=\"width: 400px;\">\n    </a>\n</div>"
    },
    {
      "metadata": {},
      "cell_type": "markdown",
      "source": "# Load packages\nWhen you download R it already has a number of functions built in: these encompass what is called **Base R**. However, many R users write their own libraries of functions, package them together in R **packages**, and provide them to the R community at no charge. This extends the capacity of R and allows us to do much more. In many cases, they improve on the Base R functions by making them easier and more straight-forward to use. In addition to `rorcid`, we will also be using the `dplyr`, `purrr`, `tidyr`, `anytime`, `lubridate`, and `janitor` packages. Some of these packages are part of the [tidyverse](https://www.tidyverse.org/), a collection of R packages designed for data science.\n\nIf you are using R and R Studio, you will need to use `install.packages()` function to install the packages first. We have already installed the packages here in our Binder repository, so we will simply load them by calling `library()`. Let's also set an option to see a max number of 100 columns and max 20 rows in our Jupyter Notebooks environment, to make printed tables easier to look at."
    },
    {
      "metadata": {
        "trusted": true
      },
      "cell_type": "code",
      "source": "install.packages('rlang')\ninstall.packages('anytime')\ninstall.packages('janitor')\ninstall.packages('rorcid')\ninstall.packages('httr')\n",
      "execution_count": 21,
      "outputs": [
        {
          "output_type": "stream",
          "text": "Installing package into ‘/home/nbuser/R’\n(as ‘lib’ is unspecified)\nInstalling package into ‘/home/nbuser/R’\n(as ‘lib’ is unspecified)\nInstalling package into ‘/home/nbuser/R’\n(as ‘lib’ is unspecified)\nInstalling package into ‘/home/nbuser/R’\n(as ‘lib’ is unspecified)\nInstalling package into ‘/home/nbuser/R’\n(as ‘lib’ is unspecified)\n",
          "name": "stderr"
        }
      ]
    },
    {
      "metadata": {
        "trusted": true
      },
      "cell_type": "code",
      "source": "#load packages\nlibrary(tidyr)\nlibrary(purrr)\nlibrary(lubridate)\nlibrary(rorcid)\nlibrary(anytime)\nlibrary(httr)\nlibrary(janitor)\n\n# increase number of columns and rows displayed when we print a table\noptions(repr.matrix.max.cols=100, repr.matrix.max.rows=20)",
      "execution_count": 24,
      "outputs": [
        {
          "output_type": "error",
          "ename": "ERROR",
          "evalue": "Error: package or namespace load failed for ‘janitor’ in loadNamespace(i, c(lib.loc, .libPaths()), versionCheck = vI[[i]]):\n namespace ‘rlang’ 0.4.1 is already loaded, but >= 0.4.6 is required\n",
          "traceback": [
            "Error: package or namespace load failed for ‘janitor’ in loadNamespace(i, c(lib.loc, .libPaths()), versionCheck = vI[[i]]):\n namespace ‘rlang’ 0.4.1 is already loaded, but >= 0.4.6 is required\nTraceback:\n",
            "1. library(janitor)",
            "2. tryCatch({\n .     attr(package, \"LibPath\") <- which.lib.loc\n .     ns <- loadNamespace(package, lib.loc)\n .     env <- attachNamespace(ns, pos = pos, deps)\n . }, error = function(e) {\n .     P <- if (!is.null(cc <- conditionCall(e))) \n .         paste(\" in\", deparse(cc)[1L])\n .     else \"\"\n .     msg <- gettextf(\"package or namespace load failed for %s%s:\\n %s\", \n .         sQuote(package), P, conditionMessage(e))\n .     if (logical.return) \n .         message(paste(\"Error:\", msg), domain = NA)\n .     else stop(msg, call. = FALSE, domain = NA)\n . })",
            "3. tryCatchList(expr, classes, parentenv, handlers)",
            "4. tryCatchOne(expr, names, parentenv, handlers[[1L]])",
            "5. value[[3L]](cond)",
            "6. stop(msg, call. = FALSE, domain = NA)"
          ]
        }
      ]
    },
    {
      "metadata": {},
      "cell_type": "markdown",
      "source": "## Setting up rorcid\n\nIf you haven't done so already, create an ORCID account at https://orcid.org/signin. If you have an ORCID but can't remember it, search for your name at https://orcid.org. If you try to sign in with an email address already associated with an ORCID, you'll be prompted to sign into the existing record. If you try to register with a different address, when you enter your name you'll be asked to review existing records with that name and verify that none of them belong to you--[see more on duplicate ORCID records](https://support.orcid.org/hc/en-us/articles/360006972593-How-do-you-check-for-duplicate-ORCID-records-). Make sure you have verified your email address."
    },
    {
      "metadata": {},
      "cell_type": "markdown",
      "source": "Next, you need to set up an ORCID API client in order to get a token you can use in your API queries. According to the [ORCID API tutorial](https://members.orcid.org/api/tutorial/read-orcid-records), anyone can receive a key to access the public API--you do not have to belong to a member institution.\n\nIf you were using R Studio, this would be simple: call `orcid_auth()` and a browser window will open, giving you your API token and allowing you to store it in your R session. See [this step on the rorcid page of the course website](https://ciakovx.github.io/NEED TO FILL THE REST OF THIS URL) for instructions on how to do that. Here in our Jupyter Notebook, we will be following the steps at <https://support.orcid.org/hc/en-us/articles/360006897174>:\n\n1. Sign in to your ORCID account\n2. In the upper right corner, click your name, then in the drop-down menu, click **Developer Tools**. Note: In order to access Developer Tools, you must verify your email address. If you have not already verified your email address, you will be prompted to do so at this point.\n4. Click the **\"Register for the free ORCID public API\"** button\n5. Review and agree to the terms of service when prompted.\n6. Add your name, the URL of your university or organization, \"Getting public API key\" in Description, and add the URL of your university or organization in the redirect URI. \n"
    },
    {
      "metadata": {
        "trusted": true
      },
      "cell_type": "code",
      "source": "Sys.setenv(ORCID_TOKEN = \"c7e034dc-0b9c-48cf-98a3-24446b22792e\")",
      "execution_count": 33,
      "outputs": []
    },
    {
      "metadata": {
        "trusted": true
      },
      "cell_type": "code",
      "source": "x <- POST(url  = \"https://orcid.org/oauth/token\",\n          config = add_headers(`Accept` = \"application/json\",\n                               `Content-Type` = \"application/x-www-form-urlencoded\"),\n          body = list(grant_type = \"client_credentials\",\n                      scope = \"/read-public\",\n                      client_id = \"APP-UXL72QIF91OSUWAN\",\n                      client_secret = \"c7e034dc-0b9c-48cf-98a3-24446b22792e\"),\n          encode = \"form\")",
      "execution_count": 4,
      "outputs": []
    },
    {
      "metadata": {
        "trusted": true
      },
      "cell_type": "code",
      "source": "(z <- content(x))",
      "execution_count": 11,
      "outputs": [
        {
          "output_type": "display_data",
          "data": {
            "text/plain": "$access_token\n[1] \"94fe1ee8-012e-4e27-9f36-9c2c26bad7dd\"\n\n$token_type\n[1] \"bearer\"\n\n$refresh_token\n[1] \"1d29f272-8799-43f4-a0aa-d3daf17d8e98\"\n\n$expires_in\n[1] 631138518\n\n$scope\n[1] \"/read-public\"\n\n$orcid\nNULL\n",
            "text/latex": "\\begin{description}\n\\item[\\$access\\_token] '94fe1ee8-012e-4e27-9f36-9c2c26bad7dd'\n\\item[\\$token\\_type] 'bearer'\n\\item[\\$refresh\\_token] '1d29f272-8799-43f4-a0aa-d3daf17d8e98'\n\\item[\\$expires\\_in] 631138518\n\\item[\\$scope] '/read-public'\n\\item[\\$orcid] NULL\n\\end{description}\n",
            "text/markdown": "$access_token\n:   '94fe1ee8-012e-4e27-9f36-9c2c26bad7dd'\n$token_type\n:   'bearer'\n$refresh_token\n:   '1d29f272-8799-43f4-a0aa-d3daf17d8e98'\n$expires_in\n:   631138518\n$scope\n:   '/read-public'\n$orcid\n:   NULL\n\n\n",
            "text/html": "<dl>\n\t<dt>$access_token</dt>\n\t\t<dd>'94fe1ee8-012e-4e27-9f36-9c2c26bad7dd'</dd>\n\t<dt>$token_type</dt>\n\t\t<dd>'bearer'</dd>\n\t<dt>$refresh_token</dt>\n\t\t<dd>'1d29f272-8799-43f4-a0aa-d3daf17d8e98'</dd>\n\t<dt>$expires_in</dt>\n\t\t<dd>631138518</dd>\n\t<dt>$scope</dt>\n\t\t<dd>'/read-public'</dd>\n\t<dt>$orcid</dt>\n\t\t<dd>NULL</dd>\n</dl>\n"
          },
          "metadata": {}
        }
      ]
    },
    {
      "metadata": {
        "trusted": true
      },
      "cell_type": "code",
      "source": "orcid_token <- z$access_token",
      "execution_count": 12,
      "outputs": []
    },
    {
      "metadata": {
        "trusted": true
      },
      "cell_type": "code",
      "source": "Sys.setenv(ORCID_TOKEN = orcid_token)",
      "execution_count": 13,
      "outputs": []
    },
    {
      "metadata": {
        "trusted": true
      },
      "cell_type": "code",
      "source": "endpt <- httr::oauth_endpoint(authorize = \"https://orcid.org/oauth/authorize\", \n            access = \"https://orcid.org/oauth/token\")",
      "execution_count": 46,
      "outputs": []
    },
    {
      "metadata": {
        "trusted": true
      },
      "cell_type": "code",
      "source": "tok <- httr::oauth2.0_token(endpt, rorcid_app, scope = \"/authenticate\", \n            cache = !reauth)",
      "execution_count": 50,
      "outputs": [
        {
          "output_type": "error",
          "ename": "ERROR",
          "evalue": "Error in is.oauth_app(app): object 'rorcid_app' not found\n",
          "traceback": [
            "Error in is.oauth_app(app): object 'rorcid_app' not found\nTraceback:\n",
            "1. httr::oauth2.0_token(endpt, rorcid_app, scope = \"/authenticate\", \n .     cache = !reauth)",
            "2. Token2.0$new(app = app, endpoint = endpoint, params = params, \n .     credentials = credentials, cache_path = if (is.null(credentials)) cache else FALSE)",
            "3. .subset2(public_bind_env, \"initialize\")(...)",
            "4. stopifnot(is.oauth_endpoint(endpoint) || !is.null(credentials), \n .     is.oauth_app(app), is.list(params))",
            "5. withCallingHandlers(tryCatch(if (missE) ...elt(i) else eval(cl.i, \n .     envir = envir), error = function(e) {\n .     e$call <- cl.i\n .     stop(e)\n . }), warning = function(w) {\n .     w$call <- cl.i\n .     w\n . })",
            "6. tryCatch(if (missE) ...elt(i) else eval(cl.i, envir = envir), \n .     error = function(e) {\n .         e$call <- cl.i\n .         stop(e)\n .     })",
            "7. tryCatchList(expr, classes, parentenv, handlers)",
            "8. tryCatchOne(expr, names, parentenv, handlers[[1L]])",
            "9. value[[3L]](cond)"
          ]
        }
      ]
    },
    {
      "metadata": {
        "attributes": {
          "classes": [],
          "eval": "FALSE",
          "id": ""
        },
        "trusted": false
      },
      "cell_type": "code",
      "source": "ORCID_TOKEN=\"4bed1e13-7792-4129-9f07-aaf7b88ba88f\"",
      "execution_count": null,
      "outputs": []
    },
    {
      "metadata": {
        "trusted": true
      },
      "cell_type": "code",
      "source": "rorcid::orcid_auth(scope = \"/authenticate\",\n                   reauth = TRUE)",
      "execution_count": 14,
      "outputs": [
        {
          "output_type": "display_data",
          "data": {
            "text/plain": "[1] \"Bearer 94fe1ee8-012e-4e27-9f36-9c2c26bad7dd\"",
            "text/latex": "'Bearer 94fe1ee8-012e-4e27-9f36-9c2c26bad7dd'",
            "text/markdown": "'Bearer 94fe1ee8-012e-4e27-9f36-9c2c26bad7dd'",
            "text/html": "'Bearer 94fe1ee8-012e-4e27-9f36-9c2c26bad7dd'"
          },
          "metadata": {}
        }
      ]
    },
    {
      "metadata": {},
      "cell_type": "markdown",
      "source": "Press <kbd>Ctrl</kbd> + <kbd>S</kbd> (Mac: <kbd>Cmd</kbd> + <kbd>S</kbd> to save the API key to your R environment and close the window. In R Studio, click Session > Restart R. Your token should now be saved to your R environment. You can confirm this by calling `orcid_auth()`, and it will print the token.\n\n# Finding ORICID iDs with `rorcid::orcid_search()`\n\nThe `rorcid::orcid_search()` function takes a query and returns a data frame with three columns: first name, last name, and ORCID iD. We use this when we have some data about a person or people, and we want to get their ORCID iDs. \n\nCall `?orcid_search` to view the available parameters.\n\nFor this example, we will use the fictitious professor [Josiah S(tinkney) Carberry](https://library.brown.edu/hay/carberry.php), \"legendary professor of psychoceramics (the study of cracked pots) since 1929,\" at Brown University. Despite being make-believe, Carberry has a profile in ORCID that can be used for test cases such as these.\n\n## Names\n\nWe start with a simple search by family name with the `family_name` argument:"
    },
    {
      "metadata": {
        "attributes": {
          "cache": "TRUE",
          "classes": [],
          "eval": "TRUE,",
          "id": ""
        },
        "trusted": true
      },
      "cell_type": "code",
      "source": "carberry <- rorcid::orcid_search(family_name = 'carberry')\ncarberry",
      "execution_count": 15,
      "outputs": [
        {
          "output_type": "display_data",
          "data": {
            "text/plain": "   first    last     orcid              \n1  Caroline Carberry 0000-0001-8276-3703\n2  Amanda   Carberry 0000-0001-5591-5599\n3  Adrian   Carberry 0000-0003-0362-0689\n4  Emma     Carberry 0000-0002-9770-3460\n5  Josie    Carberry 0000-0002-4463-641X\n6  peter    carberry 0000-0002-3555-2193\n7  David    Carberry 0000-0002-1436-4089\n8  Susan    Carberry 0000-0001-7710-0796\n9  Paul     Carberry 0000-0002-3409-0724\n10 Edward   Carberry 0000-0003-1145-1977",
            "text/latex": "A tibble: 10 x 3\n\\begin{tabular}{r|lll}\n first & last & orcid\\\\\n <chr> & <chr> & <chr>\\\\\n\\hline\n\t Caroline & Carberry & 0000-0001-8276-3703\\\\\n\t Amanda   & Carberry & 0000-0001-5591-5599\\\\\n\t Adrian   & Carberry & 0000-0003-0362-0689\\\\\n\t Emma     & Carberry & 0000-0002-9770-3460\\\\\n\t Josie    & Carberry & 0000-0002-4463-641X\\\\\n\t peter    & carberry & 0000-0002-3555-2193\\\\\n\t David    & Carberry & 0000-0002-1436-4089\\\\\n\t Susan    & Carberry & 0000-0001-7710-0796\\\\\n\t Paul     & Carberry & 0000-0002-3409-0724\\\\\n\t Edward   & Carberry & 0000-0003-1145-1977\\\\\n\\end{tabular}\n",
            "text/markdown": "\nA tibble: 10 x 3\n\n| first &lt;chr&gt; | last &lt;chr&gt; | orcid &lt;chr&gt; |\n|---|---|---|\n| Caroline | Carberry | 0000-0001-8276-3703 |\n| Amanda   | Carberry | 0000-0001-5591-5599 |\n| Adrian   | Carberry | 0000-0003-0362-0689 |\n| Emma     | Carberry | 0000-0002-9770-3460 |\n| Josie    | Carberry | 0000-0002-4463-641X |\n| peter    | carberry | 0000-0002-3555-2193 |\n| David    | Carberry | 0000-0002-1436-4089 |\n| Susan    | Carberry | 0000-0001-7710-0796 |\n| Paul     | Carberry | 0000-0002-3409-0724 |\n| Edward   | Carberry | 0000-0003-1145-1977 |\n\n",
            "text/html": "<table>\n<caption>A tibble: 10 x 3</caption>\n<thead>\n\t<tr><th scope=col>first</th><th scope=col>last</th><th scope=col>orcid</th></tr>\n\t<tr><th scope=col>&lt;chr&gt;</th><th scope=col>&lt;chr&gt;</th><th scope=col>&lt;chr&gt;</th></tr>\n</thead>\n<tbody>\n\t<tr><td>Caroline</td><td>Carberry</td><td>0000-0001-8276-3703</td></tr>\n\t<tr><td>Amanda  </td><td>Carberry</td><td>0000-0001-5591-5599</td></tr>\n\t<tr><td>Adrian  </td><td>Carberry</td><td>0000-0003-0362-0689</td></tr>\n\t<tr><td>Emma    </td><td>Carberry</td><td>0000-0002-9770-3460</td></tr>\n\t<tr><td>Josie   </td><td>Carberry</td><td>0000-0002-4463-641X</td></tr>\n\t<tr><td>peter   </td><td>carberry</td><td>0000-0002-3555-2193</td></tr>\n\t<tr><td>David   </td><td>Carberry</td><td>0000-0002-1436-4089</td></tr>\n\t<tr><td>Susan   </td><td>Carberry</td><td>0000-0001-7710-0796</td></tr>\n\t<tr><td>Paul    </td><td>Carberry</td><td>0000-0002-3409-0724</td></tr>\n\t<tr><td>Edward  </td><td>Carberry</td><td>0000-0003-1145-1977</td></tr>\n</tbody>\n</table>\n"
          },
          "metadata": {}
        }
      ]
    },
    {
      "metadata": {},
      "cell_type": "markdown",
      "source": "Looking at the data frame in your R environment, you will see it returns 10 observations of three variables. By default, `orcid_search` returns a limit of 10. We can increase the number of results returned by using the `rows` argument:"
    },
    {
      "metadata": {
        "attributes": {
          "cache": "TRUE",
          "classes": [],
          "eval": "TRUE,",
          "id": ""
        },
        "trusted": true
      },
      "cell_type": "code",
      "source": "carberry <- rorcid::orcid_search(family_name = 'carberry',\n                                 rows = 50)\ncarberry",
      "execution_count": 21,
      "outputs": [
        {
          "output_type": "error",
          "ename": "ERROR",
          "evalue": "Error: Unauthorized (HTTP 401)\n",
          "traceback": [
            "Error: Unauthorized (HTTP 401)\nTraceback:\n",
            "1. rorcid::orcid_search(family_name = \"carberry\", rows = 50)",
            "2. orcid(query = query, rows = rows, start = start, ...)",
            "3. orc_GET(paste0(orcid_base(), \"/search\"), args, ctype = ojson, \n .     ...)",
            "4. errs(res)",
            "5. fauxpas::http(x)",
            "6. http.HttpResponse(x)",
            "7. tmp$do(response)"
          ]
        }
      ]
    },
    {
      "metadata": {},
      "cell_type": "markdown",
      "source": "We now get 28 results. However, we need not look through that long list to find Josiah, but can add another argument: `given_name`. Multiple arguments are combined with AND, such that the above example gets passed to ORCID as **given-names:josiah** AND **family-name:carberry**."
    },
    {
      "metadata": {
        "attributes": {
          "cache": "TRUE",
          "classes": [],
          "eval": "TRUE,",
          "id": ""
        },
        "trusted": false
      },
      "cell_type": "code",
      "source": "carberry <- rorcid::orcid_search(given_name = 'josiah',\n                                 family_name = 'carberry')\ncarberry",
      "execution_count": null,
      "outputs": []
    },
    {
      "metadata": {},
      "cell_type": "markdown",
      "source": "It looks like there are two people in the public ORCID registry with the first name Josiah and the last name Carberry. \nWe can launch the actual ORCID profiles to our browser by using `rorcid::browse()` function. \nWe use brackets to look up the first and second items in the `orcid` variable:"
    },
    {
      "metadata": {
        "attributes": {
          "classes": [],
          "eval": "FALSE",
          "id": ""
        },
        "trusted": false
      },
      "cell_type": "code",
      "source": "rorcid::browse(carberry$orcid[1])\nrorcid::browse(carberry$orcid[2])",
      "execution_count": null,
      "outputs": []
    },
    {
      "metadata": {},
      "cell_type": "markdown",
      "source": "When we look at the profiles on the web, we that the first (0000-0002-1028-6941) is more recent and less complete, and the second (0000-0002-1825-0097) has much more data. \n\nWhat other fields can we search? Call `View(rorcid:::field_match_list)` to see a map of arguments.\n\n## Affiliation name\n\n`orcid_search` includes the argument `affiliation_org`, which searches across all of one's affiliation data (employment, education, invited positions, membership & service). Because this is such a broad search, it has the potential to return false positives if you are using it on it's own."
    },
    {
      "metadata": {
        "attributes": {
          "classes": [],
          "eval": "TRUE",
          "id": ""
        },
        "trusted": false
      },
      "cell_type": "code",
      "source": "carberry <- rorcid::orcid_search(family_name = 'carberry', \n                                 affiliation_org = 'Wesleyan')\ncarberry",
      "execution_count": null,
      "outputs": []
    },
    {
      "metadata": {},
      "cell_type": "markdown",
      "source": "There are also arguments for past institution (`past_inst`) and current institution (`current_inst`), as well as institutional identifiers (see below).\n\n## Email address\n\nWe can search by email address, however, [according to ORCID](https://members.orcid.org/api/tutorial/search-orcid-registry), as of February 2017, fewer than 2% of the 3+ million email addresses on ORCID records are public, so this one may not be incredibly helpful.  Since Josiah doesn't have email, we'll use mine."
    },
    {
      "metadata": {
        "attributes": {
          "classes": [],
          "eval": "TRUE",
          "id": ""
        },
        "trusted": false
      },
      "cell_type": "code",
      "source": "clarke <- rorcid::orcid_search(email = 'clarke.iakovakis@okstate.edu')\nclarke",
      "execution_count": null,
      "outputs": []
    },
    {
      "metadata": {},
      "cell_type": "markdown",
      "source": "If the person has chosen to keep their email address private, the function will return an empty dataframe.`\n\n\n## Keywords\n\nIf the individual has added keywords to their ORCID profile, we can search those. Dr. Carberry's profile includes the keyword \"psychoceramics\" (the study of cracked pots) (*note: this function is currently under development - :"
    },
    {
      "metadata": {
        "attributes": {
          "classes": [],
          "eval": "TRUE",
          "id": ""
        },
        "trusted": false
      },
      "cell_type": "code",
      "source": "carberry <- rorcid::orcid_search(family_name = 'carberry',\n                                 keywords = 'psychoceramics')\ncarberry",
      "execution_count": null,
      "outputs": []
    },
    {
      "metadata": {},
      "cell_type": "markdown",
      "source": "## Work title and DOI\n\nIf you know the name of a work (i.e. article, book chapter, etc.) or its DOI, you can obtain the associated ORCID iD by using the `work_title` or `digital_object_ids` **if and only if** the authos have added it to their ORCID profile.\n\nWe will search for the article [\"Building Software Building Community: Lessons from the rOpenSci Project\"](https://openresearchsoftware.metajnl.com/articles/10.5334/jors.bu/print/). Notice how the title is in double quotes, inside of single quotes, and the colon is removed."
    },
    {
      "metadata": {
        "attributes": {
          "classes": [],
          "eval": "TRUE",
          "id": ""
        },
        "trusted": false
      },
      "cell_type": "code",
      "source": "ropensci1 <- rorcid::orcid_search(work_title = '\"Building Software Building Community Lessons from the rOpenSci Project\"')\nropensci1",
      "execution_count": null,
      "outputs": []
    },
    {
      "metadata": {},
      "cell_type": "markdown",
      "source": "This gives us two authors: Edmund Hart and Scott Chamberlain. Notice we get a different result when we look the same article up by DOI:"
    },
    {
      "metadata": {
        "attributes": {
          "classes": [],
          "eval": "FALSE",
          "id": ""
        },
        "trusted": false
      },
      "cell_type": "code",
      "source": "ropensci2 <- rorcid::orcid_search(digital_object_ids = '\"10.5334/jors.bu\"')\nropensci2",
      "execution_count": null,
      "outputs": []
    },
    {
      "metadata": {},
      "cell_type": "markdown",
      "source": "Using the `browse()` function to navigate to the author profiles, we can see this is because Edmund Hart added the article to his ORCID profile, whereas Scott Chamberlain added the dataset (which has a different DOI)."
    },
    {
      "metadata": {
        "attributes": {
          "classes": [],
          "eval": "FALSE",
          "id": ""
        },
        "trusted": false
      },
      "cell_type": "code",
      "source": "rorcid::browse(ropensci1$orcid[1])\nrorcid::browse(ropensci1$orcid[2])",
      "execution_count": null,
      "outputs": []
    },
    {
      "metadata": {},
      "cell_type": "markdown",
      "source": "Thus a word of caution when searching by article title or DOI: a significant amount of data in ORCID is manually added or added with incorrect, inconsistent, or incomplete metadata. In other words, the fact that you didn't get results or got erroneous results may not be due to errors in your queries, but rather errors in the data itself.\n\n## Institutional ID (Ringgold, ISNI, GRID) - `ringgold-org-id:`\n\nWhen filling out an ORCID profile, users are encouraged to select their institutions from the drop-down menu, which will ensure it includes the Ringgold ID and any other unique identifiers, such as ISNI and GRID, that ORCID has for that institution. Read the ORCID report, [\"Organization identifiers: current provider survey\"](https://orcid.org/sites/default/files/ckfinder/userfiles/files/20161031%20OrgIDProviderSurvey.pdf) to learn more."
    },
    {
      "metadata": {
        "attributes": {
          "classes": [],
          "eval": "FALSE",
          "id": ""
        },
        "trusted": false
      },
      "cell_type": "code",
      "source": "carberry <- rorcid::orcid_search(family_name = 'carberry',\n                               ringgold_org_id = '5468')\ncarberry",
      "execution_count": null,
      "outputs": []
    },
    {
      "metadata": {},
      "cell_type": "markdown",
      "source": "You have to [register with Ringgold](https://www.ringgold.com/identify-online-guests/) to search in their registry.  [GRID is open for searching](https://www.grid.ac/institutes/grid.268117.b). Unfortunately, most organizations in ORCID have a Ringgold and not a GRID.\n\nSometimes different entities on campus will have separate Ringgold IDs; you may consider contacting Ringgold to get the full list of your institution's identifiers.\n\n## Name and email address domain\n\nWe can search by name and email address domain by using an asterisk followed by the domain name"
    },
    {
      "metadata": {
        "attributes": {
          "classes": [],
          "eval": "FALSE",
          "id": ""
        },
        "trusted": false
      },
      "cell_type": "code",
      "source": "clarke <- rorcid::orcid_search(family_name = 'iakovakis',\n                               email = '*@okstate.edu')\nclarke",
      "execution_count": null,
      "outputs": []
    },
    {
      "metadata": {},
      "cell_type": "markdown",
      "source": "## Advanced searching\n\n`orcid_search` is a wrapper for another `rorcid` function--`orcid()`, which allows for a more advanced range of searching, including Boolean OR operators.\n\nAccording to `help(orcid)`:\n\n> You can use any of the following within the query statement: given-names, family-name, credit-name, other-names, email, grant-number, patent-number, keyword, worktitle, digital-objectids, current-institution, affiliation-name, current-primary-institution, text, past-institution, peer-review-type, peer-review-role, peer-review-group-id, biography, external-id-type-and-value\n\nNote that `current_prim_inst` and `patent_number` parameters have been removed as ORCID has removed them.\n\n### Searching with Boolean OR\n\nWe can combine affiliation names, Ringgold IDs, and email addresses using the `OR` operator to cover all our bases, in case the person or people we are looking for did not hit on of those values. This will return all records that either have a Ringgold of 7618, have an affiliation name of \"Oklahoma State,\" or have an email domain ending in \"\\@okstate.edu.\""
    },
    {
      "metadata": {
        "attributes": {
          "cache": "TRUE",
          "classes": [],
          "eval": "TRUE,",
          "id": ""
        },
        "trusted": false
      },
      "cell_type": "code",
      "source": "clarke <- rorcid::orcid(query = 'family-name:iakovakis AND(ringgold-org-id:7618 OR\n                           email:*@okstate.edu OR \n                           affiliation-org-name:\"Oklahoma State\")')\nclarke",
      "execution_count": null,
      "outputs": []
    },
    {
      "metadata": {},
      "cell_type": "markdown",
      "source": "This can also be helpful if you want to cast a very wide net and capture everyone affiliated with your institution who has an ORICID iD. Keep in mind that this searches across **all** of an individuals listed affiliations (employment, education, invited positions, membership & service) past and present. So it has **will** return false positives--in other words, one should not use it to get ORCID iDs of all individuals currently at an institution, because it will include those who previously worked there or got their degree from there.\n\nThe maximum number of returned results is 200, which we can modify with the `rows` argument:"
    },
    {
      "metadata": {
        "attributes": {
          "cache": "TRUE",
          "classes": [],
          "eval": "TRUE,",
          "id": ""
        },
        "trusted": false
      },
      "cell_type": "code",
      "source": "my_osu_orcids <- rorcid::orcid(query = 'ringgold-org-id:7618 OR email:*@okstate.edu OR\n                               affiliation-org-name:\"Oklahoma State\"',\n                               rows = 25)\nmy_osu_orcids",
      "execution_count": null,
      "outputs": []
    },
    {
      "metadata": {},
      "cell_type": "markdown",
      "source": "If you want to retrieve a complete set of all results above 200, we have to write a small function. First, we will wrap our API call in `base::attr` and include a `\"found\"` argument to see how many results are found with that call:"
    },
    {
      "metadata": {
        "attributes": {
          "classes": [],
          "eval": "TRUE",
          "id": ""
        },
        "trusted": false
      },
      "cell_type": "code",
      "source": "my_osu_orcid_count <- base::attr(rorcid::orcid(query = 'ringgold-org-id:7618 OR \n                               email:*@okstate.edu OR affiliation-org-name:\"Oklahoma State\"'),\n                      \"found\")\nmy_osu_orcid_count",
      "execution_count": null,
      "outputs": []
    },
    {
      "metadata": {},
      "cell_type": "markdown",
      "source": "There are 1,897 records at the time of writing. Next we will first create a numeric vector using `seq` that starts with 0 and ends with 1897, adding 200 to each value incrementally."
    },
    {
      "metadata": {
        "attributes": {
          "classes": [],
          "eval": "TRUE",
          "id": ""
        },
        "trusted": false
      },
      "cell_type": "code",
      "source": "my_pages <- seq(from = 0, to = my_osu_orcid_count, by = 200)\nmy_pages",
      "execution_count": null,
      "outputs": []
    },
    {
      "metadata": {},
      "cell_type": "markdown",
      "source": "Finally, we will write a small function using `map` from the `purrr` package. In essence, this takes each value from our `my_pages` vector, and passes it into the `page` argument of the `orcid()` query. In other words, the first loop will get results 0-200, the next will get 200-400, and so on."
    },
    {
      "metadata": {
        "attributes": {
          "classes": [],
          "eval": "FALSE",
          "id": ""
        },
        "trusted": false
      },
      "cell_type": "code",
      "source": "my_osu_orcids <- purrr::map(\n  my_pages,\n  function(page) {\n  print(page)\n  my_orcids <- rorcid::orcid(query = 'ringgold-org-id:7618 OR \n                               email:*@okstate.edu OR affiliation-org-name:\"Oklahoma State\"',\n                               rows = 200,\n                               start = page)\n  return(my_orcids)\n  })",
      "execution_count": null,
      "outputs": []
    },
    {
      "metadata": {},
      "cell_type": "markdown",
      "source": "We can then use the `bind_rows()` function from `dplyr` to pull the data together into a single dataframe, and the `clean_names()` function from `janitor`, described below, to make the column names easier to handle. We also introduce here the Pipe Operator, which is also described below."
    },
    {
      "metadata": {
        "attributes": {
          "classes": [],
          "eval": "TRUE",
          "id": ""
        },
        "trusted": false
      },
      "cell_type": "code",
      "source": "my_osu_orcids_data <- my_osu_orcids %>%\n  dplyr::bind_rows() %>%\n  janitor::clean_names()",
      "execution_count": null,
      "outputs": []
    },
    {
      "metadata": {},
      "cell_type": "markdown",
      "source": "Of course, these are only the ORCID iDs, with no other data. The next sections will describe other functions in `rorcid` to get biographical, employment, and works data from the profiles.\n\n# `clean_names()` and `%>%`\n\nOften times the columns returned from the ORCID API have a complicated combination of punctuation that can make them hard to use. The `clean_names()` function from the `janitor` package is optional and used only to simplify the column names of the data. It converts all punctuation to underscores, so the field `orcid-identifier.uri` becomes `orcid_identifier_uri`.\n\nA [Pipe Operator](https://www.datacamp.com/community/tutorials/pipe-r-tutorial) `%>%`. A pipe takes the output of one statement and makes it the input of the next statement. You can think of it as \"then\" in natural language. So the above script first runs the `orcid()` API call, then it clean the column names of the data that was pulled into R as a result of that call. So for example, in the expression above, we first call up the `my_osu_orcids` data. We then apply the `bind_rows()` function to pull all the data together into a single data frame, and then clean the names with `clean_names()`.\n\n# Finding biographical information\n\nThe `orcid()` function gets the IDs, but no information about the person. For that, you will need to use `orcid_person()`.\n\nUnlike `orcid()`, `orcid_person()` does not take a query; it accepts only ORICID iDs in the form XXXX-XXXX-XXXX-XXXX. So we can get the ORICID iD itself into it's own vector. We can then pass that argument on to `orcid_person()`."
    },
    {
      "metadata": {
        "attributes": {
          "cache": "TRUE",
          "classes": [],
          "eval": "TRUE,",
          "id": ""
        },
        "trusted": false
      },
      "cell_type": "code",
      "source": "carberry_orcid <- \"0000-0002-1825-0097\"\ncarberry_person <- rorcid::orcid_person(carberry_orcid)",
      "execution_count": null,
      "outputs": []
    },
    {
      "metadata": {},
      "cell_type": "markdown",
      "source": "If you look at the result for carberry_person in the Environment Pane in R Studio, you will see it returned a List of 1. We can view it here on this website using the `listviewer` package."
    },
    {
      "metadata": {
        "attributes": {
          "cache": "TRUE",
          "classes": [],
          "eval": "TRUE,",
          "id": ""
        },
        "trusted": false
      },
      "cell_type": "code",
      "source": "listviewer::jsonedit(carberry_person, mode = \"view\")",
      "execution_count": null,
      "outputs": []
    },
    {
      "metadata": {},
      "cell_type": "markdown",
      "source": "Click the drop-down arrow next to the ORICID iD. We see one list here (his ORCID iD) and inside of that list is more lists. And inside those lists is even more lists! We can see the names of the top-level elements of the list by running `names(carberry_person[[1]])`."
    },
    {
      "metadata": {
        "attributes": {
          "cache": "TRUE,",
          "classes": [],
          "echo": "FALSE",
          "eval": "TRUE,",
          "id": ""
        },
        "trusted": false
      },
      "cell_type": "code",
      "source": "names(carberry_person[[1]])",
      "execution_count": null,
      "outputs": []
    },
    {
      "metadata": {},
      "cell_type": "markdown",
      "source": "If you click the drop-down arrow next to name. You can run `names(carberry_person[[1]]$name)` to see the names of those elements. While this is great data, if we want to run some analysis on it, we need to get it into a nice, tidy data frame. \n\n## Getting the data into a data frame\n\nThis is not an easy or straightforward process. I provide below one strategy to get some of the relevant data, using `map` functions from the `purrr` package and building a `tibble` (the `tidyverse`'s more efficient data frame) piece by piece."
    },
    {
      "metadata": {
        "attributes": {
          "cache": "TRUE",
          "classes": [],
          "eval": "TRUE,",
          "id": ""
        },
        "trusted": false
      },
      "cell_type": "code",
      "source": "carberry_data <- carberry_person %>% {\n    dplyr::tibble(\n      created_date = purrr::map_dbl(., purrr::pluck, \"name\", \"created-date\", \"value\", .default=NA_character_),\n      given_name = purrr::map_chr(., purrr::pluck, \"name\", \"given-names\", \"value\", .default=NA_character_),\n      family_name = purrr::map_chr(., purrr::pluck, \"name\", \"family-name\", \"value\", .default=NA_character_),\n      credit_name = purrr::map_chr(., purrr::pluck, \"name\", \"credit-name\", \"value\", .default=NA_character_),\n      other_names = purrr::map(., purrr::pluck, \"other-names\", \"other-name\", \"content\", .default=NA_character_),\n      orcid_identifier_path = purrr::map_chr(., purrr::pluck, \"name\", \"path\", .default = NA_character_),\n      biography = purrr::map_chr(., purrr::pluck, \"biography\", \"content\", .default=NA_character_),\n      researcher_urls = purrr::map(., purrr::pluck, \"researcher-urls\", \"researcher-url\", .default=NA_character_),\n      emails = purrr::map(., purrr::pluck, \"emails\", \"email\", \"email\", .default=NA_character_),\n      keywords = purrr::map(., purrr::pluck, \"keywords\", \"keyword\", \"content\", .default=NA_character_),\n      external_ids = purrr::map(., purrr::pluck, \"external-identifiers\", \"external-identifier\", .default=NA_character_)\n    )\n  }\ncarberry_data",
      "execution_count": null,
      "outputs": []
    },
    {
      "metadata": {},
      "cell_type": "markdown",
      "source": "* The **created_date** comes from within the name list, so technically it is the date the name was created, not the date the ORCID account was created, which is not available in this data. This is plucked with `map_dbl()` because it is in `double` format (a numeric data type in R) . \n* The **given_name**, **family_name**, **credit_name**, **orcid_identifier_path**, and **biography** are plucked with `map_chr()` because they are both `character` types.\n* The **other_names**, **keywords**, **researcher_urls**, and **external_ids** are plucked with `map()` because there may be multiple values (unlike the other names, in which you can only have one). For example, someone may have multiple other names, or multiple keywords. So this will return a nested list to the tibble; we will discuss below how to unnest it.\n\nEach of these functions includes a `.default = NA_character_` argument because if the value is NULL (if the ORCID author didn't input the information) then it will convert that NULL to NA.\n\n## Fixing dates\n\nView the created date by running `carberry_data$created_date` and you will see this is a number, not a date:"
    },
    {
      "metadata": {
        "attributes": {
          "classes": [],
          "eval": "TRUE,cache=TRUE,echo=FALSE",
          "id": ""
        },
        "trusted": false
      },
      "cell_type": "code",
      "source": "carberry_data$created_date",
      "execution_count": null,
      "outputs": []
    },
    {
      "metadata": {},
      "cell_type": "markdown",
      "source": "The dates are in [Unix time](https://en.wikipedia.org/wiki/Unix_time), which is the number of seconds that have elapsed since January 1, 1970. In ORCID, this is in milliseconds. We can use the `anytime()` function from the `anytime` package created by Dirk Eddelbuettel to convert it and return a POSIXct object. You have to divide it by 1000 because it's in milliseconds. Below we use the `mutate()` function from `dplyr` to overwrite the `created_date` and `last_modified_date` UNIX time with the human readable POSIXct dates."
    },
    {
      "metadata": {
        "attributes": {
          "classes": [],
          "eval": "TRUE,cache=TRUE",
          "id": ""
        },
        "trusted": false
      },
      "cell_type": "code",
      "source": "carberry_datesAndTimes <- carberry_data %>%\n  dplyr::mutate(created_date = anytime::anytime(created_date/1000))\ncarberry_datesAndTimes$created_date",
      "execution_count": null,
      "outputs": []
    },
    {
      "metadata": {},
      "cell_type": "markdown",
      "source": "That looks much better: April 15th, 2016 at 5:00 PM and 17 seconds Central Daylight Time.\n\nIf you'd prefer to do away with the time altogether (and keep only the month/day/year), you can use `anydate()` instead of `anytime()`."
    },
    {
      "metadata": {
        "attributes": {
          "classes": [],
          "eval": "TRUE,cache=TRUE",
          "id": ""
        },
        "trusted": false
      },
      "cell_type": "code",
      "source": "carberry_datesOnly <- carberry_data %>%\n  dplyr::mutate(created_date = anytime::anydate(created_date/1000))\ncarberry_datesOnly$created_date",
      "execution_count": null,
      "outputs": []
    },
    {
      "metadata": {},
      "cell_type": "markdown",
      "source": "Check out the `lubridate` package for more you can do with dates. It is installed with `tidyverse`, but not loaded, so you have to load it with its own call to `library()` (we did this at the beginning of the session). For example, you may be more interested in year of creation than month. So after you run the conversion with `anytime`, you can create year variables with `mutate()`:"
    },
    {
      "metadata": {
        "attributes": {
          "classes": [],
          "eval": "TRUE,cache=TRUE",
          "id": ""
        },
        "trusted": false
      },
      "cell_type": "code",
      "source": "carberry_years <- carberry_datesOnly %>%\n  dplyr::mutate(created_year = lubridate::year(created_date))\ncarberry_years$created_year",
      "execution_count": null,
      "outputs": []
    },
    {
      "metadata": {},
      "cell_type": "markdown",
      "source": "## Unnesting nested lists\n\nThere are nested lists in this data frame that can be unnested. The **other_names** and **keywords** values are character vectors, while the **researcher_urls** and **external_ids** values are data frames themselves. We can use the `unnest()` function from the `tidyr` package to unnest both types. In other words, this will make each element of the list its own row. For instance, since there are two keywords for carberry (\"psychoceramics\" and \"ionian philology\"), there will now be two rows that are otherwise identical except for the keywords column:"
    },
    {
      "metadata": {
        "attributes": {
          "classes": [],
          "eval": "TRUE,cache=TRUE",
          "id": ""
        },
        "trusted": false
      },
      "cell_type": "code",
      "source": "carberry_keywords <- carberry_data %>%\n  tidyr::unnest(keywords)\ncarberry_keywords$keywords",
      "execution_count": null,
      "outputs": []
    },
    {
      "metadata": {},
      "cell_type": "markdown",
      "source": "We can see which columns are lists by calling `is_list()` in the `map_lgl()` function (this will return a TRUE/FALSE for each column that is a list), and subsetting the `names()` of `carberry_data` by those values:"
    },
    {
      "metadata": {
        "attributes": {
          "classes": [],
          "eval": "TRUE,cache=TRUE",
          "id": ""
        },
        "trusted": false
      },
      "cell_type": "code",
      "source": "carberry_list_columns <- map_lgl(carberry_data, is_list)\nnames(carberry_data)[carberry_list_columns]",
      "execution_count": null,
      "outputs": []
    },
    {
      "metadata": {},
      "cell_type": "markdown",
      "source": "Rather than having 1 observation of 11 variables, the data frame now has 2 observations of 7 variables. We know why there are two observations (because there are 2 keywords), but why are there fewer variables? Because there is an argument to `unnest()` called `.drop`, which is set to `TRUE` by default, meaning all additional list columns will be dropped. If you want to keep them, just set it to `FALSE` Note, however, that it will not unnest them."
    },
    {
      "metadata": {
        "attributes": {
          "classes": [],
          "eval": "TRUE,cache=TRUE",
          "id": ""
        },
        "trusted": false
      },
      "cell_type": "code",
      "source": "carberry_keywords <- carberry_data %>%\n  tidyr::unnest(keywords, .drop = FALSE)\ncarberry_keywords",
      "execution_count": null,
      "outputs": []
    },
    {
      "metadata": {},
      "cell_type": "markdown",
      "source": "You can unnest multiple nested columns, but keep in mind that this will multiply the duplicated columns in your data frame, because there will be it is spreading the key-value pairs across multiple columns. For more on wide and long data, read Hadley Wickham's paper [\"Tidy data,\"](https://vita.had.co.nz/papers/tidy-data.html) published in *The Journal of Statistical Software.*"
    },
    {
      "metadata": {
        "attributes": {
          "classes": [],
          "eval": "TRUE,cache=TRUE",
          "id": ""
        },
        "trusted": false
      },
      "cell_type": "code",
      "source": "carberry_keywords_otherNames <- carberry_data %>%\n  tidyr::unnest(keywords, .drop = FALSE) %>%\n  tidyr::unnest(other_names, .drop = FALSE)\ncarberry_keywords_otherNames",
      "execution_count": null,
      "outputs": []
    },
    {
      "metadata": {},
      "cell_type": "markdown",
      "source": "When we unnest *researcher_urls* or *external_ids*, we will see many more columns added. That is because each of these nested lists contains multiple variables:"
    },
    {
      "metadata": {
        "attributes": {
          "classes": [],
          "eval": "TRUE,cache=TRUE",
          "id": ""
        },
        "trusted": false
      },
      "cell_type": "code",
      "source": "carberry_researcherURLs <- carberry_data %>%\n  tidyr::unnest(researcher_urls, .drop = FALSE)\ncarberry_researcherURLs",
      "execution_count": null,
      "outputs": []
    },
    {
      "metadata": {},
      "cell_type": "markdown",
      "source": "Carberry has two URLs: his Wikipedia page and a page about him on the Brown University Library. So a row is created for each of these URLs, and multiple columns are added such as the last modified date, the url value, and so on. You can keep or remove columns you don't want using `select()` from the `dplyr` package.\n\n# Writing to CSV\n\nWe will use the `write_csv()` function from the `readr` package to write our data to disk. This package was loaded when you called `library(tidyverse)` at the beginning of the session.\n\nWith a typical data frame, you can simply write the `carberry_data` data frame to a CSV with the following code:"
    },
    {
      "metadata": {
        "attributes": {
          "classes": [],
          "eval": "FALSE",
          "id": ""
        },
        "trusted": false
      },
      "cell_type": "code",
      "source": "write_csv(carberry_keywords, \"C:/Users/MyUserName/Desktop/carberry_data.csv\")",
      "execution_count": null,
      "outputs": []
    },
    {
      "metadata": {},
      "cell_type": "markdown",
      "source": "The problem is, due to the nested lists we described above, R will throw an error: `\"Error in stream_delim_(df, path, ...) : Don't know how to handle vector of type list.\"`\n\nYou have a few choices:\n\n1. You can unnest one of the columns and leave `.drop` set to `TRUE`. This will add rows for all the values in the nested lists, and drop the additional nested lists. \n\nReplace \"MyUserName\" below with your actual user name to write this file to your desktop. You can get your username by calling `Sys.getenv(\"USERNAME\")`."
    },
    {
      "metadata": {
        "attributes": {
          "classes": [],
          "eval": "FALSE",
          "id": ""
        },
        "trusted": false
      },
      "cell_type": "code",
      "source": "my_user_name <- Sys.getenv(\"USERNAME\")\ncarberry_keywords <- carberry_data %>%\n  tidyr::unnest(keywords)\nwrite_csv(carberry_keywords, file.path(\"C:/Users\", my_user_name, \"Desktop/carberry_data1.csv\"))",
      "execution_count": null,
      "outputs": []
    },
    {
      "metadata": {},
      "cell_type": "markdown",
      "source": "2. You can drop the nested lists altogether using a combination of `select_if()` from `dplyr` and `negate()` from `purrr` to drop all lists in the data frame. This is essentially saying, only keep the columns that are not lists. In this example, the number of variables falls to 6, since we have 5 list columns."
    },
    {
      "metadata": {
        "attributes": {
          "classes": [],
          "eval": "FALSE",
          "id": ""
        },
        "trusted": false
      },
      "cell_type": "code",
      "source": "carberry_data_short <- carberry_data %>%\n  dplyr::select_if(purrr::negate(is_list))",
      "execution_count": null,
      "outputs": []
    },
    {
      "metadata": {},
      "cell_type": "markdown",
      "source": "3. You can use `mutate()` from `dplyr` to coerce the list columns into character vectors."
    },
    {
      "metadata": {
        "attributes": {
          "classes": [],
          "eval": "FALSE",
          "id": ""
        },
        "trusted": false
      },
      "cell_type": "code",
      "source": "carberry_data_mutated <- carberry_data %>%\n  dplyr::mutate(keywords = as.character(keywords)) %>%\n  dplyr::mutate(other_names = as.character(other_names)) %>%\n  dplyr::mutate(researcher_urls = as.character(map(carberry_data$researcher_urls, purrr::pluck, \"url.value\", .default=NA_character_))) %>%\n  dplyr::mutate(external_ids = as.character(map(carberry_data$external_ids, purrr::pluck, \"external-id-url.value\", .default=NA_character_)))\nwrite_csv(carberry_data_mutated, \"C:/Users/MyUserName/Desktop/carberry_data2.csv\")",
      "execution_count": null,
      "outputs": []
    },
    {
      "metadata": {},
      "cell_type": "markdown",
      "source": "# Getting data on multiple people with `orcid_person()`\n\n## Searching by ORICID iDs\n\n`orcid_person()` is vectorized, so you can pass in multiple ORICID iDs and it will return a list of results for each ID, with each element named by the ORICID iD."
    },
    {
      "metadata": {
        "attributes": {
          "classes": [],
          "eval": "TRUE,cache=TRUE",
          "id": ""
        },
        "trusted": false
      },
      "cell_type": "code",
      "source": "my_orcids <- c(\"0000-0002-1825-0097\", \"0000-0002-9260-8456\")\nmy_orcid_person <- rorcid::orcid_person(my_orcids)\nlistviewer::jsonedit(my_orcid_person, mode = \"view\")",
      "execution_count": null,
      "outputs": []
    },
    {
      "metadata": {},
      "cell_type": "markdown",
      "source": "We see that we are given a list of 2, each containing the person data. We can put this into a data frame using the same code as above."
    },
    {
      "metadata": {
        "attributes": {
          "classes": [],
          "eval": "TRUE,cache=TRUE",
          "id": ""
        },
        "trusted": false
      },
      "cell_type": "code",
      "source": "my_orcid_person_data <- my_orcid_person %>% {\n    dplyr::tibble(\n      created_date = purrr::map_dbl(., purrr::pluck, \"name\", \"created-date\", \"value\", .default=NA_character_),\n      given_name = purrr::map_chr(., purrr::pluck, \"name\", \"given-names\", \"value\", .default=NA_character_),\n      family_name = purrr::map_chr(., purrr::pluck, \"name\", \"family-name\", \"value\", .default=NA_character_),\n      credit_name = purrr::map_chr(., purrr::pluck, \"name\", \"credit-name\", \"value\", .default=NA_character_),\n      other_names = purrr::map(., purrr::pluck, \"other-names\", \"other-name\", \"content\", .default=NA_character_),\n      orcid_identifier_path = purrr::map_chr(., purrr::pluck, \"name\", \"path\", .default = NA_character_),\n      biography = purrr::map_chr(., purrr::pluck, \"biography\", \"content\", .default=NA_character_),\n      researcher_urls = purrr::map(., purrr::pluck, \"researcher-urls\", \"researcher-url\", .default=NA_character_),\n      emails = purrr::map(., purrr::pluck, \"emails\", \"email\", \"email\", .default=NA_character_),\n      keywords = purrr::map(., purrr::pluck, \"keywords\", \"keyword\", \"content\", .default=NA_character_),\n      external_ids = purrr::map(., purrr::pluck, \"external-identifiers\", \"external-identifier\", .default=NA_character_)\n    )\n  } %>%\n  dplyr::mutate(created_date = anytime::anydate(created_date/1000))\nmy_orcid_person_data",
      "execution_count": null,
      "outputs": []
    },
    {
      "metadata": {},
      "cell_type": "markdown",
      "source": "We now have a nice, neat dataframe of both people's ORCID name data.\n\n\n## Unnesting\n\nAgain, we can unnest if we wish, knowing we'll multiply the number of rows even more now, because we have more values. For instance, if we unnest keywords, we'll now have 5 columns (2 keywords for carberry, and 3 keywords for iakovakis):"
    },
    {
      "metadata": {
        "attributes": {
          "classes": [],
          "eval": "TRUE,cache=TRUE",
          "id": ""
        },
        "trusted": false
      },
      "cell_type": "code",
      "source": "my_orcid_person_keywords <- my_orcid_person_data %>%\n  tidyr::unnest(keywords)\nmy_orcid_person_keywords",
      "execution_count": null,
      "outputs": []
    },
    {
      "metadata": {},
      "cell_type": "markdown",
      "source": "We can write this data to CSV using one of the three strategies outlined above. I'll use #3 and coerce all list columns to character."
    },
    {
      "metadata": {
        "attributes": {
          "classes": [],
          "eval": "FALSE",
          "id": ""
        },
        "trusted": false
      },
      "cell_type": "code",
      "source": "my_orcid_person_data_mutated <- my_orcid_person_data %>%\n  dplyr::mutate(keywords = as.character(keywords)) %>%\n  dplyr::mutate(other_names = as.character(other_names)) %>%\n  dplyr::mutate(researcher_urls = map(my_orcid_person_data$researcher_urls, purrr::pluck, \"url.value\", .default=NA_character_)) %>%\n  dplyr::mutate(external_ids = as.character(map(my_orcid_person_data$external_ids, purrr::pluck, \"external-id-url.value\", .default=NA_character_)))\nwrite_csv(carberry_data_mutated, \"C:/Users/MyUserName/Desktop/carberry_data3.csv\")",
      "execution_count": null,
      "outputs": []
    },
    {
      "metadata": {},
      "cell_type": "markdown",
      "source": "# Getting employment data\n\nIn addition to biographical data, we can also get employment data with `orcid_employments()`.\n\n## Getting employment data for an individual"
    },
    {
      "metadata": {
        "attributes": {
          "cache": "TRUE",
          "classes": [],
          "eval": "TRUE,",
          "id": ""
        },
        "trusted": false
      },
      "cell_type": "code",
      "source": "clarke_employment <- rorcid::orcid_employments(orcid = \"0000-0002-9260-8456\")\nlistviewer::jsonedit(clarke_employment, mode = \"view\")",
      "execution_count": null,
      "outputs": []
    },
    {
      "metadata": {},
      "cell_type": "markdown",
      "source": "Again it comes in a series of nested lists, but we'll just `pluck()` what we need and use `flatten_dfr()` to flatten the lists into a data frame. We will also use the `anydate()` function to go ahead and convert the dates while we're at it."
    },
    {
      "metadata": {
        "attributes": {
          "cache": "TRUE",
          "classes": [],
          "eval": "TRUE,",
          "id": ""
        },
        "trusted": false
      },
      "cell_type": "code",
      "source": "clarke_employment_data <- clarke_employment %>%\n  purrr::map(., purrr::pluck, \"affiliation-group\", \"summaries\") %>% \n  purrr::flatten_dfr() %>%\n  janitor::clean_names() %>%\n  dplyr::mutate(employment_summary_end_date = anytime::anydate(employment_summary_end_date/1000),\n                employment_summary_created_date_value = anytime::anydate(employment_summary_created_date_value/1000),\n                employment_summary_last_modified_date_value = anytime::anydate(employment_summary_last_modified_date_value/1000))",
      "execution_count": null,
      "outputs": []
    },
    {
      "metadata": {},
      "cell_type": "markdown",
      "source": "If you take a look at the data, you will see that there is no variable indicating whether these are current or past institutions of employment. In fact, the only way to check if the institution is a place of current employment is if the `employment_summary_end_date_year_value` is `NA`. Keep in mind that start and end dates are not required fields, and we can't be certain that people are updating their profiles. However, we can get a data frame of only those items meeting this criteria by using the `filter()` function from `dplyr`:"
    },
    {
      "metadata": {
        "attributes": {
          "cache": "TRUE",
          "classes": [],
          "eval": "TRUE,",
          "id": ""
        },
        "trusted": false
      },
      "cell_type": "code",
      "source": "clarke_employment_data_current <- clarke_employment_data %>%\n  filter(is.na(employment_summary_end_date_year_value))",
      "execution_count": null,
      "outputs": []
    },
    {
      "metadata": {},
      "cell_type": "markdown",
      "source": "This will remove my previous two institutions, and keep only my current one: Oklahoma State University.\n\n## Getting employment data for multiple people\n\nBecause `orcid_employments()` is vectorized, we can feed it multiple ORCID iDs and it will return data for the entire lot, if the individuals have added it. \n\nI'll grab a random assortment of OSU ORCID iDs from the previous section. Recall that these were pulled based on the detection of OSU data in either Ringgold, email, or affiliation names across all fields. We will issue the initial API call with `orcid_employments()`, then put it into a data frame with the same function we used above."
    },
    {
      "metadata": {
        "attributes": {
          "cache": "TRUE",
          "classes": [],
          "eval": "TRUE,",
          "id": ""
        },
        "trusted": false
      },
      "cell_type": "code",
      "source": "my_osu_orcid_ids <- c(\"0000-0003-0599-2785\", \"0000-0002-8771-0368\", \"0000-0003-2863-6724\", \"0000-0001-6810-5560\", \"0000-0003-1935-9729\", \"0000-0002-9088-2312\", \"0000-0001-9792-7870\", \"0000-0003-3959-6916\", \"0000-0002-2621-5320\", \"0000-0001-9103-3040\")\nmy_osu_employment <- rorcid::orcid_employments(my_osu_orcid_ids)\nmy_osu_employment_data <- my_osu_employment %>%\n  purrr::map(., purrr::pluck, \"affiliation-group\", \"summaries\") %>% \n  purrr::flatten_dfr() %>%\n  janitor::clean_names() %>%\n  dplyr::mutate(employment_summary_end_date = anytime::anydate(employment_summary_end_date/1000),\n                employment_summary_created_date_value = anytime::anydate(employment_summary_created_date_value/1000),\n                employment_summary_last_modified_date_value = anytime::anydate(employment_summary_last_modified_date_value/1000))",
      "execution_count": null,
      "outputs": []
    },
    {
      "metadata": {},
      "cell_type": "markdown",
      "source": "First, let's rename some of the long names by removing some of the words. We'll do this using the `str_replace` function from `stringr`. You can think of this as analogous to Find + Replace in word processing. We take the `names()` of the data, and replace each of the phrases with nothing (i.e. the set of empty quotes)."
    },
    {
      "metadata": {
        "attributes": {
          "cache": "TRUE",
          "classes": [],
          "eval": "TRUE,",
          "id": ""
        },
        "trusted": false
      },
      "cell_type": "code",
      "source": "names(my_osu_employment_data) <- names(my_osu_employment_data) %>%\n  stringr::str_replace(., \"employment_summary_\", \"\") %>%\n  stringr::str_replace(., \"source_source_\", \"\") %>%\n  stringr::str_replace(., \"organization_disambiguated_\", \"\")",
      "execution_count": null,
      "outputs": []
    },
    {
      "metadata": {},
      "cell_type": "markdown",
      "source": "Note that this may have multiple entries per person because it gathered their entire employment history. Now let's take a look at how many of these have Oklahoma State listed in their organization name:"
    },
    {
      "metadata": {
        "attributes": {
          "cache": "TRUE",
          "classes": [],
          "eval": "TRUE,",
          "id": ""
        },
        "trusted": false
      },
      "cell_type": "code",
      "source": "my_osu_employment_data_OSU <- my_osu_employment_data %>%\n  filter(organization_name == \"Oklahoma State University Stillwater\")",
      "execution_count": null,
      "outputs": []
    },
    {
      "metadata": {},
      "cell_type": "markdown",
      "source": "Out of this set of 10 iDs, only 4 have OSU listed in their employment. The others may have achieved their degree from OSU, or done some service with OSU. Now, out of those 4, let's see how many are listed as current employees, as indicated with an `NA` in their `end_date_year_value`."
    },
    {
      "metadata": {
        "attributes": {
          "cache": "TRUE",
          "classes": [],
          "eval": "TRUE,",
          "id": ""
        },
        "trusted": false
      },
      "cell_type": "code",
      "source": "my_osu_employment_data_OSU_current <- my_osu_employment_data_OSU %>%\n  filter(is.na(end_date_year_value))",
      "execution_count": null,
      "outputs": []
    },
    {
      "metadata": {},
      "cell_type": "markdown",
      "source": "# Getting Works with `rorcid::works()` and `rorcid::orcid_works()`\n\n## Getting works for an individual\n\nThere are two functions in `rorcid` to get all of the works associated with an ORICID iD: `orcid_works()` and `works()`. The main difference between these is `orcid_works()` returns a list, with each work as a list item, and each external identifier (e.g. ISSN, DOI) also as a list item. On the other hand, `works()` returns a nice, neat data frame that can be easily exported to a CSV. \n\nLike `orcid_person()`, these functions require an ORICID iD, and do not use the query fields we saw with the `orcid()` function."
    },
    {
      "metadata": {
        "attributes": {
          "classes": [],
          "eval": "TRUE,cache=TRUE",
          "id": ""
        },
        "trusted": false
      },
      "cell_type": "code",
      "source": "carberry_orcid <- c(\"0000-0002-1825-0097\")\ncarberry_works <- rorcid::works(carberry_orcid) %>%\n  janitor::clean_names()\ncarberry_works",
      "execution_count": null,
      "outputs": []
    },
    {
      "metadata": {},
      "cell_type": "markdown",
      "source": "Dr. Carberry has seven works. Because ORCID data can be manually entered, the integrity, completeness, and consistency of this data will sometimes vary. \n\nSo we can follow one of the three strategies outlined above if we want to write this to a CSV file: 1) unnest the column (as above), 2) drop the nested lists, or 3) mutate them into character vectors. \n\n## Getting works for multiple people\n\n`orcid::works()` is not vectorized, meaning, if you have multiple ORICID iDs, you can't use it. Instead, you have to pass them to the `orcid::orcid_works()` function."
    },
    {
      "metadata": {
        "attributes": {
          "classes": [],
          "eval": "TRUE,cache=TRUE",
          "id": ""
        },
        "trusted": false
      },
      "cell_type": "code",
      "source": "my_orcids <- c(\"0000-0002-1825-0097\", \"0000-0002-9260-8456\", \"0000-0002-2771-9344\")\nmy_works <- rorcid::orcid_works(my_orcids)\nlistviewer::jsonedit(my_works, mode = \"view\")",
      "execution_count": null,
      "outputs": []
    },
    {
      "metadata": {},
      "cell_type": "markdown",
      "source": "This returns a list of 3 elements, with the works nested in **group > work-summary**. They can be plucked and flattened into a data frame:"
    },
    {
      "metadata": {
        "attributes": {
          "classes": [],
          "eval": "TRUE,cache=TRUE",
          "id": ""
        },
        "trusted": false
      },
      "cell_type": "code",
      "source": "my_works_data <- my_works %>%\n  purrr::map_dfr(pluck, \"works\") %>%\n  janitor::clean_names() %>%\n  dplyr::mutate(created_date_value = anytime::anydate(created_date_value/1000))\nmy_works_data",
      "execution_count": null,
      "outputs": []
    },
    {
      "metadata": {},
      "cell_type": "markdown",
      "source": "## Unnesting external IDs\n\nNow you may want to run some analysis using the external identifiers; for instance, you can use the `roadoi` package to look at which DOIs are open access.\n\nWe run into a problem here when we try to unnest the external IDs:"
    },
    {
      "metadata": {
        "attributes": {
          "classes": [],
          "eval": "FALSE",
          "id": ""
        },
        "trusted": false
      },
      "cell_type": "code",
      "source": "my_works_externalIDs <- my_works_data %>%\n  unnest(external_ids_external_id)",
      "execution_count": null,
      "outputs": []
    },
    {
      "metadata": {},
      "cell_type": "markdown",
      "source": "The error message reads: `\"Error: Each column must either be a list of vectors or a list of data frames [external_ids_external_id]\".` This is because some of the list columns are empty. We can just filter them out before unnesting:"
    },
    {
      "metadata": {
        "attributes": {
          "classes": [],
          "eval": "TRUE,cache=TRUE",
          "id": ""
        },
        "trusted": false
      },
      "cell_type": "code",
      "source": "my_works_externalIDs <- my_works_data %>%\n  dplyr::filter(!purrr::map_lgl(external_ids_external_id, purrr::is_empty)) %>%\n  tidyr::unnest(external_ids_external_id)\nmy_works_externalIDs",
      "execution_count": null,
      "outputs": []
    },
    {
      "metadata": {},
      "cell_type": "markdown",
      "source": "If we want to keep them, there's a workaround: use `map_lgl` to first remove (`filter()` out) the `NULL` `external_id` columns, then `unnest` the ids, then bind back the `NULL` author columns, and finally deselecting the extra `author` and `link` columns as these are no longer in the transformed, unnested data."
    },
    {
      "metadata": {
        "attributes": {
          "classes": [],
          "eval": "TRUE,cache=TRUE",
          "id": ""
        },
        "trusted": false
      },
      "cell_type": "code",
      "source": "my_works_externalIDs_keep <- my_works_data %>% \n  dplyr::filter(!purrr::map_lgl(external_ids_external_id, purrr::is_empty)) %>% \n  tidyr::unnest(external_ids_external_id, .drop = TRUE) %>% \n  dplyr::bind_rows(my_works_data %>% \n                     dplyr::filter(map_lgl(external_ids_external_id, is.null)) %>%\n                     dplyr::select(-external_ids_external_id))\nmy_works_externalIDs_keep",
      "execution_count": null,
      "outputs": []
    },
    {
      "metadata": {},
      "cell_type": "markdown",
      "source": "# Conclusion\n\nThe ORCID API is an excellent tool for analyzing research activity on multiple levels. `rorcid` makes gathering and cleaning the data easier. Thanks to both ORCID and Scott Chamberlain for their contributions to the community. Again, read Paul Oldham's excellent post at https://www.pauloldham.net/introduction-to-orcid-with-rorcid/ for more you can do. I hope this walkthrough  helps. If you need to get in touch with me, find my contact info at https://info.library.okstate.edu/clarke-iakovakis."
    }
  ],
  "metadata": {
    "kernelspec": {
      "name": "r",
      "display_name": "R",
      "language": "R"
    },
    "language_info": {
      "mimetype": "text/x-r-source",
      "name": "R",
      "pygments_lexer": "r",
      "version": "3.5.3",
      "file_extension": ".r",
      "codemirror_mode": "r"
    }
  },
  "nbformat": 4,
  "nbformat_minor": 2
}