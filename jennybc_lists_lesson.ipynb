{
 "cells": [
  {
   "cell_type": "markdown",
   "metadata": {},
   "source": [
    "## Attribution\n",
    "\n",
    "This lesson was created and is copyrighted by Jenny Bryan, available at <https://jennybc.github.io/purrr-tutorial/ls00_inspect-explore.html> and distributed under the terms of a [Creative Commons BY-NC 4.0 License](http://creativecommons.org/licenses/by-nc/4.0/). It has been adapted by Clarke Iakovakis and the adaptation is likewise distributed under a [Creative Commons BY-NC 4.0 License](http://creativecommons.org/licenses/by-nc/4.0/)."
   ]
  },
  {
   "cell_type": "markdown",
   "metadata": {},
   "source": [
    "## Load packages\n",
    "\n",
    "Load `purrr` and `repurrrsive`, which contains recursive list examples. Load `listviewer` to more easily visualize lists."
   ]
  },
  {
   "cell_type": "code",
   "execution_count": null,
   "metadata": {},
   "outputs": [],
   "source": [
    "library(purrr)\n",
    "library(repurrrsive)\n",
    "library(listviewer)\n",
    "library(dplyr)"
   ]
  },
  {
   "cell_type": "markdown",
   "metadata": {},
   "source": [
    "## Inspect and explore\n",
    "\n",
    "List inspection is very important and also fairly miserable. Before you can apply a function to every element of a list, you'd better understand the list!\n",
    "\n",
    "You need to develop a toolkit for list inspection. Be on the look out for:\n",
    "\n",
    "  * What is the length of the list?\n",
    "  * Are the components homogeneous, i.e. do they have the same overall structure, albeit containing different data?\n",
    "  * Note the length, names, and types of the constituent objects.\n",
    "  \n",
    "> I have no idea what's in this list or what its structure is! Please send help.\n",
    "\n",
    "Understand this is **situation normal**, especially when your list comes from querying a poorly documented API. This is often true even when your list has been created completely within R. How many of us perfectly understand the structure of a fitted linear model object? You just have to embark on a voyage of discovery and figure out what's in there. Happy trails.\n",
    "\n",
    "### Indexing, review\n",
    "\n",
    "Remember, there are 3 ways to pull elements out of a list:\n",
    "\n",
    "  * The `$` operator. Extracts a single element by name. Name can be unquoted, if syntactic."
   ]
  },
  {
   "cell_type": "code",
   "execution_count": null,
   "metadata": {},
   "outputs": [],
   "source": [
    "x <- list(a = \"a\", b = 2)\n",
    "x$a\n",
    "x$b"
   ]
  },
  {
   "cell_type": "markdown",
   "metadata": {},
   "source": [
    "* `[[` a.k.a. double square bracket. Extracts a single element by name or position. Name must be quoted, if provided directly. Name or position can also be stored in a variable.\n"
   ]
  },
  {
   "cell_type": "code",
   "execution_count": null,
   "metadata": {},
   "outputs": [],
   "source": [
    "x <- list(a = \"a\", b = 2)\n",
    "x[[\"a\"]]\n",
    "x[[2]]"
   ]
  },
  {
   "cell_type": "markdown",
   "metadata": {},
   "source": [
    "* `[` a.k.a. single square bracket. Regular vector indexing. For a list input, this always returns a list!"
   ]
  },
  {
   "cell_type": "code",
   "execution_count": null,
   "metadata": {},
   "outputs": [],
   "source": [
    "x <- list(a = \"a\", b = 2)\n",
    "x[\"a\"]\n",
    "x[c(\"a\", \"b\")]\n",
    "x[c(FALSE, TRUE)]"
   ]
  },
  {
   "cell_type": "markdown",
   "metadata": {},
   "source": [
    "* The `pluck` function. This implements `[[` to allow you to index deeply into nested lists. It will be particularly helpful for us when we use `rcrossref` and `rorcid`, as these API calls return complex lists within nested lists."
   ]
  },
  {
   "cell_type": "code",
   "execution_count": null,
   "metadata": {},
   "outputs": [],
   "source": [
    "obj1 <- list(\"a\", \"my_list\" = list(1, elt = \"foo\"))\n",
    "obj2 <- list(\"b\", \"my_list\" = list(2, elt = \"bar\"))\n",
    "x <- list(obj1, obj2)\n",
    "x"
   ]
  },
  {
   "cell_type": "code",
   "execution_count": null,
   "metadata": {
    "scrolled": true
   },
   "outputs": [],
   "source": [
    "# Numeric positions index into the list by position, just like `[[`. This would be the same as x[[1]]:\n",
    "pluck(x, 1)"
   ]
  },
  {
   "cell_type": "code",
   "execution_count": null,
   "metadata": {},
   "outputs": [],
   "source": [
    "# the same as x[1][2][1]\n",
    "pluck(x, 1, 2, 1)"
   ]
  },
  {
   "cell_type": "code",
   "execution_count": null,
   "metadata": {},
   "outputs": [],
   "source": [
    "# Supply names to index into named vectors the same as x[[1]][[2]][[\"elt\"]]\n",
    "pluck(x, 1, 2, \"elt\")\n",
    "\n",
    "pluck(x, 1, \"my_list\", \"elt\")"
   ]
  },
  {
   "cell_type": "markdown",
   "metadata": {},
   "source": [
    "### `str()`\n",
    "\n",
    "`str()` can help with basic list inspection, although it's still rather frustrating. Learn to love the `max.level` and `list.len` arguments. You can use them to keep the output of `str()` down to a manageable volume.\n",
    "\n",
    "Once you begin to suspect or trust that your list is homogeneous, i.e. consists of sub-lists with similar structure, it's often a good idea to do an in-depth study of a single element. In general, remember you can combine list inspection via `str(..., list.len = x, max.level = y)` with single `[` and double `[[` square bracket indexing.\n",
    "\n",
    "The `repurrrsive` package provides examples of lists. We explore them below, to lay the groundwork for other lessons, and to demonstrate list inspection strategies."
   ]
  },
  {
   "cell_type": "markdown",
   "metadata": {},
   "source": [
    "## Wes Anderson color palettes\n",
    "\n",
    "`wesanderson` is a simple list containing color palettes from the [wesanderson package](https://cran.r-project.org/package=wesanderson). Each component is a palette, named after a movie, and contains a character vector of colors as hexadecimal triplets."
   ]
  },
  {
   "cell_type": "code",
   "execution_count": null,
   "metadata": {},
   "outputs": [],
   "source": [
    "str(wesanderson)"
   ]
  },
  {
   "cell_type": "markdown",
   "metadata": {},
   "source": [
    "### Explore `wesanderson`"
   ]
  },
  {
   "cell_type": "markdown",
   "metadata": {
    "attributes": {
     "": "",
     "classes": [],
     "id": ""
    }
   },
   "source": [
    "To visualize this in a list format, visit <https://ciakovx.github.io/jennybc_lists_lesson.html#Wes_Anderson_color_palettes>"
   ]
  },
  {
   "cell_type": "markdown",
   "metadata": {},
   "source": [
    "You can get a similar experience in RStudio via `View(wesanderson)`.\n",
    "\n",
    "## Game of Thrones POV characters\n",
    "\n",
    "`got_chars` is a list with information on the `r length(got_chars)` point-of-view characters from the first five books in the Song of Ice and Fire series by George R. R. Martin. Retrieved from [An API Of Ice And Fire](https://anapioficeandfire.com). Each component corresponds to one character and contains `r length(got_chars[[1]])` components which are named atomic vectors of various lengths and types."
   ]
  },
  {
   "cell_type": "code",
   "execution_count": null,
   "metadata": {},
   "outputs": [],
   "source": [
    "str(got_chars, list.len = 3)"
   ]
  },
  {
   "cell_type": "code",
   "execution_count": null,
   "metadata": {},
   "outputs": [],
   "source": [
    "str(got_chars[[1]], list.len = 18)"
   ]
  },
  {
   "cell_type": "markdown",
   "metadata": {},
   "source": [
    "### Explore `got_chars`"
   ]
  },
  {
   "cell_type": "markdown",
   "metadata": {
    "attributes": {
     "": "",
     "classes": [],
     "id": ""
    }
   },
   "source": [
    "Visit <https://ciakovx.github.io/jennybc_lists_lesson.html#Game_of_Thrones_POV_characters> to interact with this in a listviewer environment"
   ]
  },
  {
   "cell_type": "markdown",
   "metadata": {},
   "source": [
    "\n",
    "## Vectorized and \"list-ized\" operations\n",
    "\n",
    "Recall that many operations \"just work\" in a vectorized fashion in R:"
   ]
  },
  {
   "cell_type": "code",
   "execution_count": null,
   "metadata": {},
   "outputs": [],
   "source": [
    "(3:5) ^ 2\n",
    "sqrt(c(9, 16, 25))"
   ]
  },
  {
   "cell_type": "markdown",
   "metadata": {},
   "source": [
    "Through the magic of R, the operations \"raise to the power of 2\" and \"take the square root\" were applied to each individual element of the numeric vector input. Someone -- but not you! -- has written a `for()` loop:"
   ]
  },
  {
   "cell_type": "code",
   "execution_count": null,
   "metadata": {
    "attributes": {
     "": "",
     "classes": [],
     "id": ""
    }
   },
   "outputs": [],
   "source": [
    "# for example only, do not run\n",
    "for (i in 1:n) {\n",
    "  output[[i]] <- f(input[[i]])\n",
    "}"
   ]
  },
  {
   "cell_type": "markdown",
   "metadata": {},
   "source": [
    "Automatic vectorization is possible because our input is an atomic vector: the individual atoms are always of length one, always of uniform type.\n",
    "\n",
    "What if the input is a list? You have to be more intentional to apply a function `f()` to each element of a list, i.e. to \"list-ize\" computation. This makes sense because the data structure itself does not guarantee that it makes any sense at all to apply a common function `f()` to each element of the list. You must guarantee that.\n",
    "\n",
    "`purrr::map()` is a function for applying a function to each element of a list. The [closest base R function](bk01_base-functions.html) is `lapply()`. Here's how the square root example of the above would look if the input was in a list."
   ]
  },
  {
   "cell_type": "code",
   "execution_count": null,
   "metadata": {},
   "outputs": [],
   "source": [
    "map(c(9, 16, 25), sqrt)"
   ]
  },
  {
   "cell_type": "markdown",
   "metadata": {},
   "source": [
    "A template for basic `map()` usage:"
   ]
  },
  {
   "cell_type": "code",
   "execution_count": null,
   "metadata": {
    "attributes": {
     "": "",
     "classes": [],
     "id": ""
    }
   },
   "outputs": [],
   "source": [
    "map(YOUR_LIST, YOUR_FUNCTION)"
   ]
  },
  {
   "cell_type": "markdown",
   "metadata": {},
   "source": [
    "Below we explore these useful features of `purrr::map()` and friends:\n",
    "\n",
    "  * Shortcuts for `YOUR_FUNCTION` when you want to extract list elements by name or position\n",
    "  * Simplify and specify the type of output via `map_chr()`, `map_lgl()`, etc.\n",
    "  \n",
    "This is where you begin to see the differences between `purrr::map()` and `base::lapply()`.\n",
    "\n",
    "### Name and position shortcuts\n",
    "\n",
    "Who are these Game of Thrones characters?\n",
    "\n",
    "We want the elements with name \"name\", so we do this (we restrict to the first few elements purely to conserve space):"
   ]
  },
  {
   "cell_type": "code",
   "execution_count": null,
   "metadata": {},
   "outputs": [],
   "source": [
    "map(got_chars[1:4], \"name\")"
   ]
  },
  {
   "cell_type": "markdown",
   "metadata": {},
   "source": [
    "The map() functions use pluck() by default to retrieve multiple values from a list:"
   ]
  },
  {
   "cell_type": "code",
   "execution_count": null,
   "metadata": {},
   "outputs": [],
   "source": [
    "map(got_chars[1:4], pluck, \"name\")"
   ]
  },
  {
   "cell_type": "markdown",
   "metadata": {},
   "source": [
    "We are exploiting one of purrr's most useful features: a shortcut to create a function that extracts an element based on its name.\n",
    "\n",
    "A companion shortcut is used if you provide a positive integer to `map()`. This creates a function that extracts an element based on position.\n",
    "\n",
    "The 3rd element of each character's list is his or her name and we get them like so:"
   ]
  },
  {
   "cell_type": "code",
   "execution_count": null,
   "metadata": {},
   "outputs": [],
   "source": [
    "map(got_chars[5:8], 3)"
   ]
  },
  {
   "cell_type": "markdown",
   "metadata": {},
   "source": [
    "To recap, here are two shortcuts for making the `.f` function that `map()` will apply:\n",
    "\n",
    "  * provide \"TEXT\" to extract the element named \"TEXT\"\n",
    "    - equivalent to `function(x) x[[\"TEXT\"]]`\n",
    "  * provide `i` to extract the `i`-th element\n",
    "    - equivalent to `function(x) x[[i]]`\n",
    "\n",
    "You will frequently see `map()` used together with [the pipe `%>%`](http://r4ds.had.co.nz/pipes.html). These calls produce the same result as the above."
   ]
  },
  {
   "cell_type": "code",
   "execution_count": null,
   "metadata": {
    "attributes": {
     "": "",
     "classes": [],
     "id": ""
    }
   },
   "outputs": [],
   "source": [
    "got_chars %>% \n",
    "  map(\"name\")\n",
    "got_chars %>% \n",
    "  map(pluck, 3)"
   ]
  },
  {
   "cell_type": "markdown",
   "metadata": {},
   "source": [
    "#### Exercises\n",
    "\n",
    "1. Use `names()` to inspect the names of the list elements associated with a single character. What is the index or position of the `playedBy` element? Use the character and position shortcuts to extract the `playedBy` elements for all characters.\n",
    "1. What happens if you use the character shortcut with a string that does not appear in the lists' names?\n",
    "1. What happens if you use the position shortcut with a number greater than the length of the lists?\n",
    "1. What if these shortcuts did not exist? Write a function that takes a list and a string as input and returns the list element that bears the name in the string. Apply this to `got_chars` via `map()`. Do you get the same result as with the shortcut? Reflect on code length and readability.\n",
    "1. Write another function that takes a list and an integer as input and returns the list element at that position. Apply this to `got_chars` via `map()`. How does this result and process compare with the shortcut?\n",
    "\n",
    "### Type-specific map\n",
    "\n",
    "`map()` always returns a list, even if all the elements have the same flavor and are of length one. But in that case, you might prefer a simpler object: **an atomic vector**.\n",
    "\n",
    "If you expect `map()` to return output that can be turned into an atomic vector, it is best to use a type-specific variant of `map()`. This is more efficient than using `map()` to get a list and then simplifying the result in a second step. Also purrr will alert you to any problems, i.e. if one or more inputs has the wrong type or length. This is the [increased rigor about type alluded to in the section about coercion](bk00_vectors-and-lists.html#coercion).\n",
    "\n",
    "Our current examples are suitable for demonstrating `map_chr()`, since the requested elements are always character."
   ]
  },
  {
   "cell_type": "code",
   "execution_count": null,
   "metadata": {},
   "outputs": [],
   "source": [
    "map_chr(got_chars[9:12], \"name\")\n",
    "map_chr(got_chars[13:16], 3)"
   ]
  },
  {
   "cell_type": "markdown",
   "metadata": {},
   "source": [
    "Besides `map_chr()`, there are other variants of `map()`, with the target type conveyed by the name:\n",
    "\n",
    "  * `map_lgl()`, `map_int()`, `map_dbl()`\n",
    "  \n",
    "#### Exercises\n",
    "\n",
    "1. For each character, the second element is named \"id\". This is the character's id in the [API Of Ice And Fire](https://anapioficeandfire.com). Use a type-specific form of `map()` and an extraction shortcut to extract these ids into an integer vector.\n"
   ]
  },
  {
   "cell_type": "code",
   "execution_count": null,
   "metadata": {},
   "outputs": [],
   "source": []
  },
  {
   "cell_type": "markdown",
   "metadata": {},
   "source": [
    "1. Use your list inspection strategies to find the list element that is logical. There is one! Use a type-specific form of `map()` and an extraction shortcut to extract these values for all characters into a logical vector.\n",
    "\n"
   ]
  },
  {
   "cell_type": "code",
   "execution_count": null,
   "metadata": {},
   "outputs": [],
   "source": []
  },
  {
   "cell_type": "markdown",
   "metadata": {},
   "source": [
    "### Extract multiple values\n",
    "\n",
    "What if you want to retrieve multiple elements? Such as the character's name and culture? First, recall how we do this with the list for a single user:"
   ]
  },
  {
   "cell_type": "code",
   "execution_count": null,
   "metadata": {},
   "outputs": [],
   "source": [
    "got_chars[[3]][c(\"name\", \"culture\", \"gender\", \"born\")]"
   ]
  },
  {
   "cell_type": "markdown",
   "metadata": {},
   "source": [
    "We use single square bracket indexing and a character vector to index by name. How will we ram this into the `map()` framework? To paraphrase Chambers, [\"everything that happens in R is a function call\"](http://adv-r.had.co.nz/Functions.html#all-calls) and indexing with `[` is no exception.\n",
    "\n",
    "It feels (and maybe looks) weird, but we can map `[` just like any other function. Recall `map()` usage:"
   ]
  },
  {
   "cell_type": "code",
   "execution_count": null,
   "metadata": {
    "attributes": {
     "": "",
     "classes": [],
     "id": ""
    }
   },
   "outputs": [],
   "source": [
    "map(.x, .f, ...)"
   ]
  },
  {
   "cell_type": "markdown",
   "metadata": {},
   "source": [
    "The function `.f` will be `[`. And we finally get to use `...`! This is where we pass the character vector of the names of our desired elements. We inspect the result for two characters."
   ]
  },
  {
   "cell_type": "code",
   "execution_count": null,
   "metadata": {},
   "outputs": [],
   "source": [
    "x <- map(got_chars, `[`, c(\"name\", \"culture\", \"gender\", \"born\"))\n",
    "str(x[16:17])"
   ]
  },
  {
   "cell_type": "markdown",
   "metadata": {},
   "source": [
    "Some people find this ugly and might prefer the `extract()` function from magrittr."
   ]
  },
  {
   "cell_type": "code",
   "execution_count": null,
   "metadata": {},
   "outputs": [],
   "source": [
    "x <- map(got_chars, magrittr::extract, c(\"name\", \"culture\", \"gender\", \"born\"))\n",
    "str(x[18:19])"
   ]
  },
  {
   "cell_type": "markdown",
   "metadata": {},
   "source": [
    "### Data frame output\n",
    "\n",
    "We just learned how to extract multiple elements per user by mapping `[`. But, since `[` is non-simplifying, each user's elements are returned in a list. And, as it must, `map()` itself returns list. We've traded one recursive list for another recursive list, albeit a slightly less complicated one.\n",
    "\n",
    "How can we \"stack up\" these results row-wise, i.e. one row per user and variables for \"name\", \"gender\", etc.? A data frame would be the perfect data structure for this information.\n",
    "\n",
    "This is what `map_dfr()` is for."
   ]
  },
  {
   "cell_type": "code",
   "execution_count": null,
   "metadata": {},
   "outputs": [],
   "source": [
    "map_dfr(got_chars, magrittr::extract, c(\"name\", \"culture\", \"gender\", \"id\", \"born\", \"alive\"))"
   ]
  },
  {
   "cell_type": "markdown",
   "metadata": {},
   "source": [
    "Finally! A data frame! Hallelujah!\n",
    "\n",
    "Notice how the variables have been automatically type converted. It's a beautiful thing. Until it's not. When programming, it is safer, but more cumbersome, to explicitly specify type and build your data frame the usual way. We make `pluck` explicit here as well, as we will on occasion need to index more deeply into lists, and can add those to pluck."
   ]
  },
  {
   "cell_type": "code",
   "execution_count": null,
   "metadata": {},
   "outputs": [],
   "source": [
    "library(tibble)\n",
    "got_chars %>% {\n",
    "  tibble(\n",
    "       name = map_chr(., pluck, \"name\"),\n",
    "    culture = map_chr(., pluck, \"culture\"),\n",
    "     gender = map_chr(., pluck, \"gender\"),       \n",
    "         id = map_int(., pluck, \"id\"),\n",
    "       born = map_chr(., pluck, \"born\"),\n",
    "      alive = map_lgl(., pluck, \"alive\")\n",
    "  )\n",
    "}"
   ]
  },
  {
   "cell_type": "markdown",
   "metadata": {},
   "source": [
    "*Syntax notes: The dot `.` above is the placeholder for the primary input: `got_chars` in this case. The curly braces `{}` surrounding the `tibble()` call prevent `got_chars` from being passed in as the first argument of `tibble()`.*\n",
    "\n",
    "#### Exercises\n",
    "\n",
    "1. Use `map_dfr()` to create the same data frame as above, but indexing with a vector of positive integers instead of names."
   ]
  },
  {
   "cell_type": "code",
   "execution_count": null,
   "metadata": {},
   "outputs": [],
   "source": []
  }
 ],
 "metadata": {
  "kernelspec": {
   "display_name": "R",
   "language": "R",
   "name": "ir"
  },
  "language_info": {
   "codemirror_mode": "r",
   "file_extension": ".r",
   "mimetype": "text/x-r-source",
   "name": "R",
   "pygments_lexer": "r",
   "version": "3.6.1"
  }
 },
 "nbformat": 4,
 "nbformat_minor": 2
}
