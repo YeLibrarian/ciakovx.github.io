{
 "cells": [
  {
   "cell_type": "markdown",
   "metadata": {},
   "source": [
    "---\n",
    "title: \"Data Exploration\"\n",
    "output: \n",
    "  html_document:\n",
    "    df_print: paged\n",
    "    toc: true\n",
    "    toc_float:\n",
    "      collapsed: false\n",
    "      smooth_scroll: false\n",
    "    toc_depth: 3\n",
    "---"
   ]
  },
  {
   "cell_type": "code",
   "execution_count": null,
   "metadata": {
    "attributes": {
     "classes": [],
     "eval": "TRUE,",
     "id": "",
     "include": "FALSE,",
     "tidy": "TRUE"
    }
   },
   "outputs": [],
   "source": [
    "library(png)\n",
    "library(tinytex)\n",
    "library(knitr)\n",
    "library(printr)\n",
    "library(xtable)\n",
    "library(tidyverse)\n",
    "library(kableExtra)\n",
    "knitr::opts_chunk$set(echo = TRUE, cache = TRUE, eval=FALSE)"
   ]
  },
  {
   "cell_type": "markdown",
   "metadata": {},
   "source": [
    "This is distributed under a [https://creativecommons.org/licenses/by/4.0/](Creative Commons Attribution 4.0 International (CC BY 4.0) License)."
   ]
  },
  {
   "cell_type": "code",
   "execution_count": null,
   "metadata": {
    "attributes": {
     "classes": [],
     "id": "",
     "r,fig.height": "1,echo=FALSE"
    }
   },
   "outputs": [],
   "source": [
    "cc <- readPNG(file.path(\"./images/cc.png\"))\n",
    "grid::grid.raster(cc)"
   ]
  },
  {
   "cell_type": "markdown",
   "metadata": {},
   "source": [
    "Workshop code for this module is at https://raw.githubusercontent.com/ciakovx/ciakovx.github.io/master/DataExploration_workshopcode.R\n",
    "\n",
    "# Getting data into R\n",
    "\n",
    "## Ways to get data into R\n",
    "In order to use your data in R, you must import it and turn it into an R *object*. There are many ways to get data into R.\n",
    "\n",
    "* **Manually**: You can manually create it as we did at the end of last session. To create a data.frame, use the `data.frame()` and specify your variables. \n",
    "* **Import it from a file** Below is a very incomplete list\n",
    "+ Text: TXT (`readLines()` function)\n",
    "+ Tabular data: CSV, TSV (`read.table()` function or `readr` package)\n",
    "+ Excel: XLSX (`xlsx` package)\n",
    "+ Google sheets: (`googlesheets` package)\n",
    "+ Statistics program: SPSS, SAS (`haven` package)\n",
    "+ Databases: MySQL (`RMySQL` package)\n",
    "* **Gather it from the web**: You can connect to webpages, servers, or APIs directly from within R, or you can create a data scraped from HTML webpages using the `rvest` package. \n",
    "- For example, connect to the Twitter API with the [`twitteR`](https://sites.google.com/site/miningtwitter/questions/talking-about/wordclouds/wordcloud1) package, or Altmetrics data with [`rAltmetric`](https://cran.r-project.org/web/packages/rAltmetric/vignettes/intro-to-altmetric.html), or World Bank's World Development Indicators with [`WDI`](https://cran.r-project.org/web/packages/WDI/WDI.pdf).\n",
    "\n",
    "## `readr`\n",
    "R has some base functions for reading a local data file into your R session--namely `read.table()` and `read.csv()`, but these have some idiosyncrasies that were improved upon in the `readr` package, which is installed and loaded with `tidyverse`. You can either load `tidyverse`, which will automatically load `readr`, or you can load `readr` individually."
   ]
  },
  {
   "cell_type": "code",
   "execution_count": null,
   "metadata": {
    "attributes": {
     "classes": [],
     "comment": "NA,",
     "eval": "FALSE",
     "id": ""
    }
   },
   "outputs": [],
   "source": [
    "library(tidyverse)\n",
    "\n",
    "# or\n",
    "\n",
    "library(readr)"
   ]
  },
  {
   "cell_type": "markdown",
   "metadata": {},
   "source": [
    "For this session, we will be reading a CSV from a web connection rather than saving the data to our computer and loading it into R. However, to do that, see the below section on [Loading data from a local file](#loadlocal). \n",
    "\n",
    "To get our sample data into our R session, we will use the `read_csv()` function and connect to a CSV saved on my GitHub using the `url()` function."
   ]
  },
  {
   "cell_type": "code",
   "execution_count": null,
   "metadata": {
    "attributes": {
     "classes": [],
     "comment": "NA,",
     "eval": "FALSE",
     "id": ""
    }
   },
   "outputs": [],
   "source": [
    "books_url <- url(\"https://raw.githubusercontent.com/ciakovx/ciakovx.github.io/master/fsci2020/data/books.csv\")\n",
    "books <- readr::read_csv(books_url)\n",
    "books"
   ]
  },
  {
   "cell_type": "markdown",
   "metadata": {},
   "source": [
    "You will notice a warning message telling you that because you did not specify the data type for each column, `read_csv()` parsed it automatically. For example, `LOCATION` was parsed as a `col_character()` field. You should now have an R object called `books` in the Environment pane: 10000 observations of 12 variables. We will be using this data file in the next module."
   ]
  },
  {
   "cell_type": "code",
   "execution_count": null,
   "metadata": {
    "attributes": {
     "classes": [],
     "eval": "TRUE",
     "id": "",
     "r,fig.height": "1.5,echo=FALSE,"
    }
   },
   "outputs": [],
   "source": [
    "booksimport <- readPNG(\"./images/booksImport.png\")\n",
    "grid::grid.raster(booksimport)"
   ]
  },
  {
   "cell_type": "markdown",
   "metadata": {},
   "source": [
    "## Loading data from a local file {#loadlocal}\n",
    "\n",
    "### Set your working directory\n",
    "The **working directory** is the location on your computer R will use for reading and writing files. Use `getwd()` to print your current working directory to the console. Use `setwd()` to set your working directory. There are two important points to make here;\n",
    "\n",
    "* On Windows computers, directories in file paths are separated with a backslash `\\`. However, in R, you must use a forward slash `/`. I usually copy and paste from the Windows Explorer (or Mac Finder) window directly into R and use the find/replace (Ctrl/Cmd + F). \n",
    "* The directory must be in quotation marks."
   ]
  },
  {
   "cell_type": "code",
   "execution_count": null,
   "metadata": {
    "attributes": {
     "classes": [],
     "eval": "TRUE",
     "id": "",
     "r,fig.height": "0.8,echo=FALSE,"
    }
   },
   "outputs": [],
   "source": [
    "explorer <- readPNG(\"./images/Explorer.png\")\n",
    "grid::grid.raster(explorer)\n",
    "\n",
    "findreplace <- readPNG(\"./images/FindReplace.png\")\n",
    "grid::grid.raster(findreplace)"
   ]
  },
  {
   "cell_type": "code",
   "execution_count": null,
   "metadata": {
    "attributes": {
     "classes": [],
     "comment": "NA,",
     "eval": "FALSE",
     "id": ""
    }
   },
   "outputs": [],
   "source": [
    "# set working directory using a forward slash /\n",
    "setwd(\"C:/Users/iakovakis/Desktop/fsci_AM4\")\n",
    "\n",
    "# print working directory to the console\n",
    "getwd()\n",
    "## [1] \"C:/Users/iakovakis/Desktop/fsci_AM4\""
   ]
  },
  {
   "cell_type": "markdown",
   "metadata": {},
   "source": [
    "Now, you can use period-slash `./` to represent the working directory. So `\"./data\"` is the same as `\"C:/Users/iakovakis/Documents/fsci_AM4/data\"`\n",
    "---\n",
    "\n",
    "**TRY IT YOURSELF**"
   ]
  },
  {
   "cell_type": "code",
   "execution_count": null,
   "metadata": {
    "attributes": {
     "classes": [],
     "comment": "NA,",
     "eval": "FALSE",
     "id": ""
    }
   },
   "outputs": [],
   "source": [
    "# set your working directory to wherever you saved the data files for this webinar\n",
    "setwd(\"C:/Wherever you saved the files/fsci_AM4_files\")\n",
    "\n",
    "# read the books file into your R environment and assign it to books\n",
    "# not all of these arguments are necessary, but I'm putting them here for example purposes\n",
    "books <- readr::read_csv(\"./data/raw/books.csv\")"
   ]
  },
  {
   "cell_type": "markdown",
   "metadata": {},
   "source": [
    "## Import Dataset tool in R Studio\n",
    "\n",
    "R Studio has a data importing wizard in the Environment Pane (upper right): **Import Dataset:**"
   ]
  },
  {
   "cell_type": "code",
   "execution_count": null,
   "metadata": {
    "attributes": {
     "classes": [],
     "eval": "TRUE",
     "id": "",
     "r,fig.height": "1,echo=FALSE,"
    }
   },
   "outputs": [],
   "source": [
    "import <- readPNG(\"./images/ImportDataset.png\")\n",
    "grid::grid.raster(import)"
   ]
  },
  {
   "cell_type": "markdown",
   "metadata": {},
   "source": [
    "I never use this. I type the `read_csv()` function  directly in my script files, as it gives me more control over the arguments and I am not limited to the choices R Studio gives me.\n",
    "\n",
    "# Data exploration\n",
    "\n",
    "After you read in the data, you want to examine it not only to make sure it was read in correctly, but also to gather some basic information about it. Here I am working with the data file that was provided to you during the webinar session. Read this file by saving it to your computer, setting your working directory, and typing the expression found in the **TRY IT YOURSELF** exercise at the end of Section 2.\n",
    "\n",
    "## Exploring dataframes"
   ]
  },
  {
   "cell_type": "code",
   "execution_count": null,
   "metadata": {
    "attributes": {
     "classes": [],
     "comment": "NA",
     "id": ""
    }
   },
   "outputs": [],
   "source": [
    "# Look at the data in the viewer\n",
    "View(books)\n",
    "\n",
    "# Use dim() to obtain the dimensions\n",
    "dim(books)\n",
    "## [1] 10000   12\n",
    "\n",
    "# print the column names\n",
    "names(books)\n",
    "\n",
    "# nrow() is number of rows. \n",
    "nrow(books)\n",
    "## [1] 10000\n",
    "ncol(books)\n",
    "## [1] 12\n",
    "\n",
    "# Use head() and tail() to get the first and last 6 observations\n",
    "# View more by adding the n argument\n",
    "head(books)\n",
    "head(books, n = 10)"
   ]
  },
  {
   "cell_type": "markdown",
   "metadata": {},
   "source": [
    "The `map()` series of function from `purrr` is a useful way of running a function on all variables in a data frame or list. Here we call `class()` on `books` using `map_chr()`, which will return a character vector of the classes for each variable."
   ]
  },
  {
   "cell_type": "code",
   "execution_count": null,
   "metadata": {
    "attributes": {
     "classes": [],
     "comment": "NA",
     "id": ""
    }
   },
   "outputs": [],
   "source": [
    "map_chr(books, class)\n",
    "## CALL...BIBLIO.        X245.ab         X245.c       LOCATION     \n",
    "##   \"character\"    \"character\"    \"character\"    \"character\"      \n",
    "##    tot_chkout       LOUTDATE        SUBJECT            ISN   \n",
    "##     \"integer\"    \"character\"    \"character\"    \"character\"    \n",
    "##  CALL...ITEM.  X008.Date.One          BCODE2         BCODE1 \n",
    "##    \"character\"      \"integer\"    \"character\"    \"character\" "
   ]
  },
  {
   "cell_type": "markdown",
   "metadata": {},
   "source": [
    "## Exploring variables\n",
    "\n",
    "### Dollar sign\n",
    "The dollar sign `$` is used to distinguish a specific variable (column, in Excel-speak) in a data frame:"
   ]
  },
  {
   "cell_type": "code",
   "execution_count": null,
   "metadata": {
    "attributes": {
     "classes": [],
     "comment": "NA",
     "id": ""
    }
   },
   "outputs": [],
   "source": [
    "# print the first six book titles\n",
    "head(books$title)\n",
    "## [1] \"NAEP 1998 writing state report for Texas /\"\n",
    "## [2] \"The World almanac and book of facts.\"\n",
    "## [3] \"McGraw-Hill reading.\"\n",
    "## [4] \"TASP Texas Academic Skills Program policy manual.\"\n",
    "## [5] \"The control room :~how television calls the shots in presidential elections /\"\n",
    "## [6] \"IEEE transactions on information technology in biomedicine :~a publication of the IEEE Engineering in Medicine and Biology Society.\"\n",
    "\n",
    "# print the mean number of checkouts\n",
    "mean(books$tot_chkout)\n",
    "## [1] 2.2847"
   ]
  },
  {
   "cell_type": "markdown",
   "metadata": {},
   "source": [
    "### `unique()`, `table()`, and `duplicated()`\n",
    "Use `unique()` to see all the distinct values in a variable:"
   ]
  },
  {
   "cell_type": "code",
   "execution_count": null,
   "metadata": {
    "attributes": {
     "classes": [],
     "comment": "NA",
     "id": ""
    }
   },
   "outputs": [],
   "source": [
    "unique(books$LOCATION)\n",
    "##  [1] \"clstk\" \"cltxd\" \"clfhd\" \"cljuv\" \"clusd\" \"cljre\" \"clref\" \"clua \" ..."
   ]
  },
  {
   "cell_type": "markdown",
   "metadata": {},
   "source": [
    "Take that one step further with `table()` to get quick frequency counts on a variable:"
   ]
  },
  {
   "cell_type": "code",
   "execution_count": null,
   "metadata": {
    "attributes": {
     "classes": [],
     "comment": "NA",
     "id": ""
    }
   },
   "outputs": [],
   "source": [
    "table(books$LOCATION)\n",
    "## clcdr clchi clcir clcre clfhd clfyi clids cljre cljuv \n",
    "##   135   410    18    10   898     1    24   270   430     \n",
    "\n",
    "# you can use it with relational operators \n",
    "# Here we find that 9 books have over 50 checkouts\n",
    "table(books$TOT.CHKOUT > 50)\n",
    "## FALSE  TRUE \n",
    "##  9991     9"
   ]
  },
  {
   "cell_type": "markdown",
   "metadata": {},
   "source": [
    "`duplicated()` will give you the a logical vector of duplicated values."
   ]
  },
  {
   "cell_type": "code",
   "execution_count": null,
   "metadata": {
    "attributes": {
     "classes": [],
     "comment": "NA,",
     "eval": "FALSE",
     "id": ""
    }
   },
   "outputs": [],
   "source": [
    "# The books dataset doesn't have much duplication, we'll create a new vector to test this.\n",
    "mydupes <- tibble(\"identifier\" = c(\"111\", \"222\", \"111\", \"333\", \"444\"),\n",
    "                  \"birthYear\" = c(1980, 1940, 1980, 2000, 1960))\n",
    "\n",
    "mydupes\n",
    "##  identifier birthYear\n",
    "## 1        111      1980\n",
    "## 2        222      1940\n",
    "## 3        111      1980\n",
    "## 4        333      2000\n",
    "## 5        444      1960\n",
    "\n",
    "# The second 111 is duplicated\n",
    "duplicated(mydupes$identifier)\n",
    "## [1] FALSE FALSE  TRUE FALSE FALSE\n",
    "\n",
    "# you can put an exclamation mark before it to get non-duplicated values\n",
    "!duplicated(mydupes$identifier)\n",
    "## [1]  TRUE  TRUE FALSE  TRUE  TRUE\n",
    "\n",
    "# or run a table of duplicated values\n",
    "table(duplicated(mydupes$identifier))\n",
    "## FALSE  TRUE \n",
    "## 4     1\n",
    "\n",
    "# which() is also a useful function for identifying the specific element\n",
    "# in the vector that is duplicated\n",
    "which(duplicated(mydupes$identifier))\n",
    "## [1] 3"
   ]
  },
  {
   "cell_type": "markdown",
   "metadata": {},
   "source": [
    "## Exploring missing values\n",
    "You may also need to know the number of missing values:"
   ]
  },
  {
   "cell_type": "code",
   "execution_count": null,
   "metadata": {
    "attributes": {
     "classes": [],
     "comment": "NA",
     "id": ""
    }
   },
   "outputs": [],
   "source": [
    "# How many total missing values?\n",
    "sum(is.na(books))\n",
    "## [1] 5591\n",
    "\n",
    "# Total missing values per column\n",
    "colSums(is.na(books))\n",
    "\n",
    "# use table() and is.na() in combination\n",
    "table(is.na(books$isbn))\n",
    "## FALSE  TRUE \n",
    "##2893  1107 \n",
    "\n",
    "# Return only observations that have no missing values\n",
    "booksNoNA <- na.omit(books)"
   ]
  },
  {
   "cell_type": "markdown",
   "metadata": {},
   "source": [
    "---\n",
    "\n",
    "**TRY IT YOURSELF**\n",
    "\n",
    "1. Call `View(books)` to examine the data frame. \n",
    "+ Use the small arrow buttons in the variable name to sort tot_chkout by the highest checkouts. What item has the most checkouts?\n",
    "+ Use the search bar on the right to search for the term Mathematics.\n",
    "+ Click the Filter button above the first variable. Filter the X008.Date.One variable to see only books published after 1960.\n",
    "2. What is the class of the TOT.CHKOUT variable?\n",
    "3. The publication date variable is represented with X008.Date.One. Use the `table()` function to get frequency counts of this variable\n",
    "4. Use `table()` and `is.na()` to find out how many NA values are in the ISN variable. \n",
    "5. Use `which()` and `is.na()` to find out which rows are NA in the ISN variable. What happened? \n",
    "6. Use `which()` and `!is.na()` to find out which rows are **not** NA in ISN. (`!is.na()` is the same thing as `complete.cases()`)\n",
    "7. Refer back to Section 4.3 in the *Nuts & Bolts of R* handout for Part 1: \"Subsetting vectors.\" Subset the books$ISN vector using `!is.na()` to include only those values that are not NA.\n",
    "8. Call `summary(books$TOT.CHKOUT)`. What can we infer when we compare the mean, median, and max?\n",
    "9. `hist()` will print a rudimentary histogram, which displays frequency counts. Call `hist(books$TOT.CHKOUT)`. What is this telling us?\n",
    "\n",
    "---\n",
    "\n",
    "# Logical tests\n",
    "R contains a number of operators you can use to compare values. Use `help(Comparison)` to read the R help file. Note that **two equal signs** (`==`) are used for evaluating equality (because one equals sign (`=`) is used for assigning variables)."
   ]
  },
  {
   "cell_type": "code",
   "execution_count": null,
   "metadata": {
    "attributes": {
     "classes": [],
     "comment": "NA,",
     "echo": "F,",
     "eval": "FALSE",
     "id": "",
     "results": "'asis',"
    }
   },
   "outputs": [],
   "source": [
    "operators <- tibble(\"operator\" = c(\"<\", \">\", \"==\", \"<=\", \">=\", \"!=\", \"%in%\", \"is.na\", \"!is.na\"),\n",
    "                    \"function\" = c(\"Less Than\", \"Greater Than\", \"Equal To\", \"Less Than or Equal To\", \"Greater Than or Equal To\", \"Not Equal To\", \"Has A Match In\", \"Is NA\", \"Is Not NA\"))\n",
    "\n",
    "kable(operators) %>%\n",
    "  kable_styling(bootstrap_options = c(\"striped\", \"hover\", \"condensed\", \"responsive\"))"
   ]
  },
  {
   "cell_type": "markdown",
   "metadata": {},
   "source": [
    "Sometimes you need to do multiple logical tests (think Boolean logic). Use `help(Logic)` to read the help file."
   ]
  },
  {
   "cell_type": "code",
   "execution_count": null,
   "metadata": {
    "attributes": {
     "classes": [],
     "comment": "NA,",
     "echo": "F,",
     "eval": "FALSE",
     "id": "",
     "results": "'asis',"
    }
   },
   "outputs": [],
   "source": [
    "multiple <- data.frame(\"operator\" = c(\"&\", \"|\", \"!\", \"any\", \"all\")\n",
    "                       , \"function\" = c(\"boolean AND\", \"boolean OR\", \"boolean NOT\", \"ANY true\", \"ALL true\")\n",
    "                       , stringsAsFactors = F)\n",
    "\n",
    "kable(multiple) %>%\n",
    "  kable_styling(bootstrap_options = c(\"striped\", \"hover\", \"condensed\", \"responsive\"))"
   ]
  },
  {
   "cell_type": "markdown",
   "metadata": {},
   "source": [
    "---\n",
    "\n",
    "**TRY IT YOURSELF**\n",
    "\n",
    "1. Evaluate the following expressions and consider the results."
   ]
  },
  {
   "cell_type": "code",
   "execution_count": null,
   "metadata": {
    "attributes": {
     "classes": [],
     "comment": "NA,",
     "eval": "FALSE",
     "id": ""
    }
   },
   "outputs": [],
   "source": [
    "8 == 8\n",
    "8 == 16\n",
    "8 != 16\n",
    "8 < 16\n",
    "8 == 16 - 8\n",
    "8 == 8 & 8 < 16\n",
    "8 == 8 | 8 > 16\n",
    "8 == 9 | 8 > 16\n",
    "any(8 == 8, 8 == 9, 8 == 10)\n",
    "all(8 == 8, 8 == 9, 8 == 10)\n",
    "8 %in% c(6, 7, 8)\n",
    "8 %in% c(5, 6, 7)\n",
    "!(8 %in% c(5, 6, 7))\n",
    "if(8 == 8) {print(\"eight equals eight\")}\n",
    "if(8 > 16){\n",
    "  print(\"eight is greater than sixteen\")\n",
    "} else {\n",
    "  print(\"eight is less than sixteen\")\n",
    "}"
   ]
  },
  {
   "cell_type": "markdown",
   "metadata": {},
   "source": [
    "# Data cleaning & transformation with dplyr"
   ]
  },
  {
   "cell_type": "code",
   "execution_count": null,
   "metadata": {
    "attributes": {
     "classes": [],
     "eval": "TRUE",
     "id": "",
     "r,fig.height": "0.8,echo=FALSE,"
    }
   },
   "outputs": [],
   "source": [
    "r <- readPNG(\"./images/tidyverse.png\")\n",
    "grid::grid.raster(r, just=4)"
   ]
  },
  {
   "cell_type": "markdown",
   "metadata": {},
   "source": [
    "We are now entering the data cleaning and transforming phase. While it is possible to do much of the following using Base R functions (in other words, without loading an external package) `dplyr` makes it much easier. Like many of the most useful R packages, `dplyr` was developed by [http://hadley.nz/](Hadley Wickham), a data scientist and professor at Rice University. \n",
    "\n",
    "## Renaming variables\n",
    "It is often necessary to rename variables to make them more meaningful. If you print the names of the sample `books` dataset you can see that some of the vector names are not particularly helpful:"
   ]
  },
  {
   "cell_type": "code",
   "execution_count": null,
   "metadata": {
    "attributes": {
     "classes": [],
     "comment": "NA,",
     "eval": "FALSE",
     "id": ""
    }
   },
   "outputs": [],
   "source": [
    "# print names of the books data frame to the console\n",
    "names(books)\n",
    "## [1] \"CALL...BIBLIO.\" \"title\"          \"X245.c\"         \"LOCATION\"       \"tot_chkout\"     \"LOUTDATE\"    \"SUBJECT\"        \"ISN\"            \"CALL...ITEM.\"   \"X008.Date.One\"  \"BCODE2\"         \"BCODE1\"    "
   ]
  },
  {
   "cell_type": "markdown",
   "metadata": {},
   "source": [
    "There are many ways to rename variables in R, but I find the `rename()` function in the `dplyr` package to be the easiest and most straightforward. The new variable name comes first. See `help(rename)`."
   ]
  },
  {
   "cell_type": "code",
   "execution_count": null,
   "metadata": {
    "attributes": {
     "classes": [],
     "comment": "NA",
     "id": ""
    }
   },
   "outputs": [],
   "source": [
    "# rename the X245.ab variable. Make sure you return (<-) the output to your \n",
    "# variable, otherwise it will just print it to the console\n",
    "books <- dyplr::rename(books,\n",
    "                       title = X245.ab)\n",
    "\n",
    "# rename multiple variables at once\n",
    "books <- dyplr::rename(books,\n",
    "                       author = X245.c,\n",
    "                       callnumber = CALL...BIBLIO.,\n",
    "                       isbn = ISN,\n",
    "                       pubyear = X008.Date.One,\n",
    "                       subCollection = BCODE1,\n",
    "                       format = BCODE2)\n",
    "books"
   ]
  },
  {
   "cell_type": "markdown",
   "metadata": {},
   "source": [
    "Side note: where does `X245.ab` come from? That is the MARC field 245|ab. However, because R variables cannot start with a number, R automatically inserted and X, and because pipes | are not allowed in variable names, R replaced it with a period. \n",
    "\n",
    "R does this automatically when you use `read_csv`, but sometimes you need to force it. The `clean_names()` function from `janitor` can be used to clean names of data frames. As per the help file, \"Resulting names are unique and consist only of the _ character, numbers, and letters.\""
   ]
  },
  {
   "cell_type": "code",
   "execution_count": null,
   "metadata": {
    "attributes": {
     "classes": [],
     "comment": "NA",
     "id": ""
    }
   },
   "outputs": [],
   "source": [
    "# clean_names() can be used for data frames\n",
    "books <- janitor::clean_names(books)\n",
    "books\n",
    "\n",
    "# make_clean_names() can be used for vectors\n",
    "my_messy_names <- c(\"245|ab\", \"1.-2\", \"space bar\")\n",
    "janitor::make_clean_names(my_messy_names)\n",
    "## [1] \"x245_ab\"   \"x1_2\"      \"space_bar\""
   ]
  },
  {
   "cell_type": "markdown",
   "metadata": {},
   "source": [
    "## Recoding values\n",
    "It is often necessary to recode or reclassify values in your data. For example, in the sample dataset provided to you, the `sub_collection` (formerly `BCODE1`) and `format` (formerly `BCODE2`) variables contain single characters."
   ]
  },
  {
   "cell_type": "code",
   "execution_count": null,
   "metadata": {
    "attributes": {
     "classes": [],
     "echo": "FALSE,",
     "eval": "FALSE",
     "id": "",
     "out.width": "\"50%\","
    }
   },
   "outputs": [],
   "source": [
    "bcodes <- c(\"./images/BCODE1.png\", \"./images/BCODE2.png\")\n",
    "include_graphics(bcodes)"
   ]
  },
  {
   "cell_type": "markdown",
   "metadata": {},
   "source": [
    "You can do this easily using the `recode()` function, also in the `dplyr` package."
   ]
  },
  {
   "cell_type": "code",
   "execution_count": null,
   "metadata": {
    "attributes": {
     "classes": [],
     "comment": "FALSE",
     "id": ""
    }
   },
   "outputs": [],
   "source": [
    "# first print to the console all of the unique values you will need to recode\n",
    "unique(books$sub_collection)\n",
    "##   [1] \"u\" \"-\" \"j\" \"r\" \"b\" \"a\" \"s\" \"c\" \"t\" \"z\"\n",
    "\n",
    "# Use the recode function to assign them. \n",
    "# Unlike rename, the old value comes first here. \n",
    "books$sub_collection <- dyplr::recode(books$sub_collection,\n",
    "                                      \"-\" = \"general collection\",\n",
    "                                      u = \"government documents\",\n",
    "                                      r = \"reference\",\n",
    "                                      b = \"k-12 materials\",\n",
    "                                      j = \"juvenile\",\n",
    "                                      s = \"special collections\",\n",
    "                                      c = \"computer files\",\n",
    "                                      t = \"theses\",\n",
    "                                      a = \"archives\",\n",
    "                                      z = \"reserves\")\n",
    "books "
   ]
  },
  {
   "cell_type": "markdown",
   "metadata": {},
   "source": [
    "---\n",
    "\n",
    "**TRY IT YOURSELF**\n",
    "\n",
    "1. Run `unique(books$format)` to see the unique values in the `format` column\n",
    "2. Use `dyplr::recode()` to rename the `format` values according to the following codes. You **must** put 5 and 4 in quotation marks."
   ]
  },
  {
   "cell_type": "code",
   "execution_count": null,
   "metadata": {
    "attributes": {
     "classes": [],
     "comment": "NA,",
     "echo": "F",
     "id": "",
     "results": "'asis',"
    }
   },
   "outputs": [],
   "source": [
    "multiple <- data.frame(\"value\" = c(\"a\", \"e\", \"w\", \"s\", \"o\", \"n\", \"k\", \"m\", '\"5\"', '\"4\"')\n",
    "                       , \"name\" = c(\"book\", \"serial\", \"microform\", \"e-gov doc\", \"map\", \"database\", \"cd-rom\", \"image\", \"kit/object\", \"online video\")\n",
    "                       , stringsAsFactors = F)\n",
    "\n",
    "print(xtable(multiple\n",
    "             , caption = \"Formats\"\n",
    "             , align = \"ccc\")\n",
    "      , include.rownames = FALSE\n",
    "      , comment = FALSE)"
   ]
  },
  {
   "cell_type": "code",
   "execution_count": null,
   "metadata": {
    "attributes": {
     "classes": [],
     "comment": "NA,",
     "echo": "F",
     "id": "",
     "results": "'asis',"
    }
   },
   "outputs": [],
   "source": [
    "# Answer to #2:\n",
    "books$format <- dyplr::recode(books$format,\n",
    "                              a = \"book\",\n",
    "                              e = \"serial\",\n",
    "                              w = \"microform\",\n",
    "                              s = \"e-gov doc\",\n",
    "                              o = \"map\",\n",
    "                              n = \"database\",\n",
    "                              k = \"cd-rom\",\n",
    "                              m = \"image\",\n",
    "                              \"5\" = \"kit/object\",\n",
    "                              \"4\" = \"online video\")"
   ]
  },
  {
   "cell_type": "markdown",
   "metadata": {},
   "source": [
    "## Subsetting dataframes\n",
    "\n",
    "### Subsetting using brackets in Base R\n",
    "In the same way we used brackets to subset vectors, we also use them to subset dataframes. However, vectors have only one direction, but dataframes have two. Therefore we have to use two values in the brackets: the first representing the row, and the second representing the column: `[[row, column]]`. \n",
    "\n",
    "When using tibbles, single brackets will return a tibble, but double brackets will return the individual vectors or values without names."
   ]
  },
  {
   "cell_type": "code",
   "execution_count": null,
   "metadata": {
    "attributes": {
     "classes": [],
     "comment": "NA",
     "id": ""
    }
   },
   "outputs": [],
   "source": [
    "# subsetting a vector \n",
    "c(\"do\", \"re\", \"mi\", \"fa\", \"so\") [1]\n",
    "\n",
    "# subsetting a data frame:\n",
    "# pull a single variable into a tibble with names\n",
    "books[5, 2]\n",
    "## # A tibble: 1 x 1\n",
    "##   X245.ab                                              \n",
    "##   <chr>                                                \n",
    "## 1 The control room :~how television calls the shots in~\n",
    "\n",
    "# pull out a single variable without names\n",
    "books[[5, 2]]\n",
    "## [1] \"The control room :~how television calls the shots in presidential elections /\"\n",
    "\n",
    "# use names to pull data\n",
    "books[[2, \"title\"]]\n",
    "## [1] \"The World almanac and book of facts.\"\n",
    "\n",
    "# return the second value in multiple columns\n",
    "books[2, c(\"title\", \"format\", \"sub_collection\")]\n",
    "##                          title format      subCollection\n",
    "## 2 The race for consciousness /   book general collection\n",
    "\n",
    "# leave the row space blank to return all rows. This will create \n",
    "# a tibble of all titles. \n",
    "myTitles <- books[, \"title\"]\n",
    "\n",
    "# to return a character vector, use double brackets. The comma is then unnecessary.\n",
    "myTitles_vec <- books[[\"title\"]]"
   ]
  },
  {
   "cell_type": "markdown",
   "metadata": {},
   "source": [
    "You can also use the relational operators (see above) to return values based on a logical condition. Below, we use `complete.cases()` to subset out the NA values. This function evaluates each row and checks if it is an NA value. If it is not, a TRUE value is returned, and vice versa. Since the column space is blank in the brackets `[row, column]`, it will return all columns."
   ]
  },
  {
   "cell_type": "code",
   "execution_count": null,
   "metadata": {
    "attributes": {
     "classes": [],
     "comment": "NA",
     "id": ""
    }
   },
   "outputs": [],
   "source": [
    "completeCallnumbers <- books[complete.cases(books$callnumber), ]"
   ]
  },
  {
   "cell_type": "markdown",
   "metadata": {},
   "source": [
    "### Subsetting using `filter()` in the `dplyr` package\n",
    "Subsetting using brackets is important to understand, but as with other R functions, the `dplyr` package makes it much more straightforward, using the `filter()` function."
   ]
  },
  {
   "cell_type": "code",
   "execution_count": null,
   "metadata": {
    "attributes": {
     "classes": [],
     "comment": "NA",
     "id": ""
    }
   },
   "outputs": [],
   "source": [
    "# filter books to return only those items where the format is books\n",
    "booksOnly <- dyplr::filter(books, format == \"book\")\n",
    "\n",
    "# use multiple filter conditions, \n",
    "# e.g. books to include only books with more than zero checkouts\n",
    "bookCheckouts <- dyplr::filter(books,\n",
    "                               format == \"book\",\n",
    "                               tot_chkout > 0)\n",
    "\n",
    "# How many are there? \n",
    "# What percentage of all books have at least one checkout?\n",
    "nrow(bookCheckouts)\n",
    "## [1] 4267\n",
    "\n",
    "nrow(bookCheckouts)/nrow(booksOnly) * 100\n",
    "## [1] 61.10554\n",
    "# 61%...not bad :-)\n",
    "\n",
    "library(stringr)\n",
    "# use the str_detect() function from the stringr package to return all \n",
    "# books with the word \"Science\" in the SUBJECT variable, published after 1999\n",
    "scienceBooks <- dyplr::filter(books,\n",
    "                              format == \"book\",\n",
    "                              stringr::str_detect(subject, \"Science\"), \n",
    "                              pubyear > 1999) "
   ]
  },
  {
   "cell_type": "markdown",
   "metadata": {},
   "source": [
    "**TRY IT YOURSELF**\n",
    "\n",
    "1. Run `unique(format)` and `unique(sub_collection)` to confirm the values in each of these fields.\n",
    "2. Create a data frame consisting only of `format` books. Use the `table()` function to see the breakdown by `sub_collection`. Which sub-collection has the most items with 20 or more checkouts?\n",
    "3. Create a data frame consisting of `format` books and `sub_collection` juvenile materials. What is the average number of checkouts `tot_chkout` for juvenile books?\n",
    "4. Filter the data frame to include books with between 10 and 20 checkouts\n",
    "\n",
    "---\n",
    "\n",
    "## Selecting variables\n",
    "The `select()` function allows you to keep or remove specific variables. It also provides a convenient way to reorder variables."
   ]
  },
  {
   "cell_type": "code",
   "execution_count": null,
   "metadata": {
    "attributes": {
     "classes": [],
     "comment": "NA",
     "id": ""
    }
   },
   "outputs": [],
   "source": [
    "# specify the variables you want to keep by name\n",
    "booksTitleCheckouts <- dplyr::select(books, title, tot_chkout)\n",
    "\n",
    "# specify the variables you want to remove with a -\n",
    "books <- dyplr::select(books, -call_item)\n",
    "\n",
    "# reorder columns, combined with everything()\n",
    "booksReordered <- dyplr::select(books, title, tot_chkout, loutdate, everything())"
   ]
  },
  {
   "cell_type": "markdown",
   "metadata": {},
   "source": [
    "## Ordering data\n",
    "The `arrange()` function in the `dplyr` package allows you to sort your data by alphabetical or numerical order."
   ]
  },
  {
   "cell_type": "code",
   "execution_count": null,
   "metadata": {
    "attributes": {
     "classes": [],
     "comment": "NA",
     "id": ""
    }
   },
   "outputs": [],
   "source": [
    "booksTitleArrange <- dyplr::arrange(books, title)\n",
    "\n",
    "# use desc() to sort a variable in descending order\n",
    "booksHighestChkout <- dyplr::arrange(books, desc(tot_chkout))\n",
    "\n",
    "# order data based on multiple variables (e.g. sort first by checkout, then by publication year)\n",
    "booksChkoutYear <- dyplr::arrange(books, desc(tot_chkout), desc(pubyear))"
   ]
  },
  {
   "cell_type": "markdown",
   "metadata": {},
   "source": [
    "## Creating new variables\n",
    "The `mutate()` function allows you to create new variables."
   ]
  },
  {
   "cell_type": "code",
   "execution_count": null,
   "metadata": {
    "attributes": {
     "classes": [],
     "comment": "NA",
     "id": ""
    }
   },
   "outputs": [],
   "source": [
    "# use the str_sub() function from the stringr package to extract the first character of the callnumber variable (the LC Class)\n",
    "library(stringr)\n",
    "booksLC <- mutate(books\n",
    "                  , lc_class = str_sub(callnumber, 1, 1))"
   ]
  },
  {
   "cell_type": "markdown",
   "metadata": {},
   "source": [
    "## Putting it all together with %>%\n",
    "\n",
    "The [Pipe Operator](https://www.datacamp.com/community/tutorials/pipe-r-tutorial) `%>%` is loaded with the `tidyverse`. It takes the output of one statement and makes it the input of the next statement. You can think of it as \"then\" in natural language. So in the following example, the `books` tibble is first loaded, then the format is filtered to include only books, then only the title and tot_chkout columns are selected, and finally the data is rearranged from most to least checkouts."
   ]
  },
  {
   "cell_type": "code",
   "execution_count": null,
   "metadata": {
    "attributes": {
     "classes": [],
     "comment": "NA",
     "id": ""
    }
   },
   "outputs": [],
   "source": [
    "myBooks <- books %>%\n",
    "  dyplr::filter(format == \"book\") %>%\n",
    "  dyplr::select(title, tot_chkout) %>%\n",
    "  dyplr::arrange(desc(tot_chkout))"
   ]
  },
  {
   "cell_type": "markdown",
   "metadata": {},
   "source": [
    "**TRY IT YOURSELF**\n",
    "\n",
    "\n",
    "Experiment with different combinations of the pipe operator.\n",
    "\n",
    "1. Create a data frame with these conditions:\n",
    "+ filter to include subCollection juvenile & k-12 materials and format books\n",
    "+ select only title, call number, total checkouts, and pub year\n",
    "+ arrange by total checkouts in descending order\n",
    "2. Create a data frame with these conditions:\n",
    "+ rename the isbn column to all caps: ISBN\n",
    "+ filter out NA values in the call number column\n",
    "+ filter to include only books published after 1990\n",
    "+ arrange from oldest to newest publication year\n",
    "\n",
    "# Group and summarize data\n",
    "\n",
    "`group_by()` and `summarize()` are two more powerful `dplyr` functions. Use `group_by()` to cluster the dataset together in the variables you specify. For example, if you group by LC Call number class, then you can sum up the total number of ebook user sessions per call number class using `summarize()`. `summarize()` will collapse many values down into a single summary statistics.\n",
    "\n",
    "Here is an example using the `booksLC` data frame created above."
   ]
  },
  {
   "cell_type": "code",
   "execution_count": null,
   "metadata": {
    "attributes": {
     "classes": [],
     "comment": "NA",
     "id": ""
    }
   },
   "outputs": [],
   "source": [
    "# First, create the grouped variable\n",
    "byLC <- group_by(booksLC, lc_class)\n",
    "\n",
    "# Then, summarize by User.Sessions\n",
    "checkouts_byLC <- summarize(byLC, total_checkouts = sum(tot_chkout))\n",
    "\n",
    "# Arrange it\n",
    "checkouts_byLC <- dyplr::arrange(checkouts_byLC, desc(total_checkouts))"
   ]
  },
  {
   "cell_type": "markdown",
   "metadata": {},
   "source": [
    "We can use the %>% operator to do both these operations at the same time."
   ]
  },
  {
   "cell_type": "code",
   "execution_count": null,
   "metadata": {
    "attributes": {
     "classes": [],
     "comment": "NA",
     "id": ""
    }
   },
   "outputs": [],
   "source": [
    "checkouts_byLC <- byLC %>%\n",
    "  summarize(total_checkouts = sum(tot_chkout)) %>%\n",
    "  dyplr::arrange(desc(total_checkouts))"
   ]
  },
  {
   "cell_type": "markdown",
   "metadata": {},
   "source": [
    "The top 5 are:"
   ]
  },
  {
   "cell_type": "code",
   "execution_count": null,
   "metadata": {
    "attributes": {
     "classes": [],
     "comment": "NA",
     "id": ""
    }
   },
   "outputs": [],
   "source": [
    "checkouts_byLC$lc_class[1:5]"
   ]
  },
  {
   "cell_type": "markdown",
   "metadata": {},
   "source": [
    "We may also want to see the total number of books in each call number class, and also calculate the mean user sessions per class:\n",
    "\n",
    "* use `n()` to sum up the total number of ebooks per call number class. Add it as a column called `count.`\n",
    "* use `sum(User.Sessions)` to add up the cumulative total user sessions per call number class. Add it as a column called `totalSessions`.\n",
    "* use `mean(User.Sessions)` to calculate the mean user sessions per call number class. Add it as a column called `avgSessions`."
   ]
  },
  {
   "cell_type": "code",
   "execution_count": null,
   "metadata": {
    "attributes": {
     "classes": [],
     "comment": "NA",
     "id": ""
    }
   },
   "outputs": [],
   "source": [
    "byLCSummary <- byLC %>%\n",
    "  summarize(\n",
    "    count = n()\n",
    "    , total_checkouts = sum(tot_chkout)\n",
    "    , avg_checkouts = mean(tot_chkout)) %>%\n",
    "  dyplr::arrange(desc(avg_checkouts))"
   ]
  },
  {
   "cell_type": "markdown",
   "metadata": {},
   "source": [
    "---\n",
    "\n",
    "# Help with dplyr\n",
    "\n",
    "* Read more about `dplyr` at <https://dplyr.tidyverse.org/>. \n",
    "* In your console, after loading `library(dplyr)`, run `vignette(\"dplyr\")` to read an extremely helpful explanation of how to use it. \n",
    "* See the [http://r4ds.had.co.nz/transform.html](\"Data Transformation\" chapter) in Garrett Grolemund and Hadley Wickham's book *R for Data Science.*\n",
    "* Watch this Data School video: [https://www.youtube.com/watch?v=jWjqLW-u3hc](Hands-on dplyr tutorial for faster data manipulation in R.)"
   ]
  }
 ],
 "metadata": {},
 "nbformat": 4,
 "nbformat_minor": 2
}
