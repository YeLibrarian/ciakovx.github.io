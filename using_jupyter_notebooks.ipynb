{
  "cells": [
    {
      "metadata": {
        "collapsed": true
      },
      "cell_type": "markdown",
      "source": "# Introduction\n\nThe Jupyter Notebook is an open-source web application that allows you to create and share documents that contain live code, equations, visualizations and narrative text. \n\n\nWe are using these platforms to avoid having to install R and R Studio onto your own computer. Furthermore, by interacting with R in this notebook, you will be able to execute code that I have already written, and see explanations of it first hand. This will help with various installation issues that go along with using R and R Studio.\n\n\n# Licensing\n\nThis walkthrough is distributed under a [https://creativecommons.org/licenses/by/4.0/](Creative Commons Attribution 4.0 International (CC BY 4.0) License). \n\n<div>\n    <br>\n    <a>\n        <img src=\"images/ccby.png\" style=\"width: 400px;\">\n    </a>\n</div>\n\n# Binder\n\n[The Binder Project](https://mybinder.readthedocs.io/) is an open community that makes it possible to create sharable, interactive, reproducible environments that can be shared and used by many remote users. It is powered by [BinderHub](https://github.com/jupyterhub/binderhub), which is an open-source tool that deploys the Binder service in the cloud. \n\nWe are using Binder to launch interactive Jupyter Notebooks, but it is also possible to launch R Studio and Python environments. See <https://mybinder.readthedocs.io/en/latest/examples.html> for interesting Binder repositories from around the web.\n"
    },
    {
      "metadata": {},
      "cell_type": "markdown",
      "source": "# Jupyter Notebooks\n\n<div>\n        <a>\n            <img src=\"images/jupyter.png\" style=\"width: 400px;\">\n</a></div>\n\nJupyter Notebooks have two different keyboard input modes:\n\n* **Command Mode** - Make changes on the Notebook level. Indicated by a grey cell border with a blue left margin. \n* **Edit Mode** - Make changes to an individual cell. Indicated by a green cell border\n\nA new cell will always start as a **Code** cell, where you can type in R code and execute it here in your Jupyter notebook. All code in this notebook is R, but in Azure Notebooks you can create Notebooks that are F# or Python.\n\nPlease feel free to add your own notes in a Markdown cell during this workshop, or write your own R code! \n\nUseful keyboard shortcurts when you are in Command Mode:\n* **Enter** to enter Edit Mode to edit the cell\n* **B** to create new cell below the current cell\n* **A** to create new cell above the current cell\n* **Y** to change a Markdown cell to Code\n* **M** to change a Code cell to Markdown\n* Press **D** twice to delete the cell\n  \nShortcuts when you are in Edit Mode:\n* **Esc** to enter Command Mode\n* **Ctrl + Enter** to Run cell and stay in the cell\n* **Shift + Enter** to Run cell and select the next cell\n* **Alt (or option on Mac) + Enter** to Run cell and insert a new cell below.\n* **Ctrl (or Cmd on Mac) + Z**: Undo\n\n---\n**TRY IT YOURSELF**\n\nSelect the below cell in Edit Mode by double clicking in it, or by clicking it on the margin and pressing **Enter**. It should have a green border. Notice that this is a **Code** cell. Press Shift + Enter to execute the code. This will print the output and select the next cell.\n\nThen, when you are in the next cell, press Ctrl + Enter. This will print the output and stay in the same cell.\n\nThen, press the down arrow on your keyboard to to to the next cell. Enter Edit Mode (green border) by pressing Enter. Press Alt (or option on Mac) + Enter. This will print the output and create a new cell.\n\nThen press the down arrow or select the new empty cell. Make sure you are in Command Mode (blue border). Press D twice to delete the new cell.</a>"
    },
    {
      "metadata": {
        "trusted": false
      },
      "cell_type": "code",
      "source": "# press Shift + Enter\nprint(\"You just ran the cell and selected the next cell\")",
      "execution_count": null,
      "outputs": []
    },
    {
      "metadata": {
        "trusted": false
      },
      "cell_type": "code",
      "source": "# press Ctrl + Enter\nprint(\"You just ran this cell and the focus stayed here in this cell\")",
      "execution_count": null,
      "outputs": []
    },
    {
      "metadata": {
        "trusted": false
      },
      "cell_type": "code",
      "source": "# press Alt (or option on Mac) + Enter\nprint(\"You just ran the cell and inserted a new cell below it\")",
      "execution_count": null,
      "outputs": []
    },
    {
      "metadata": {
        "trusted": false
      },
      "cell_type": "code",
      "source": "",
      "execution_count": null,
      "outputs": []
    },
    {
      "metadata": {},
      "cell_type": "markdown",
      "source": "Notice the text in the above cells that starts with a hash **#** character. The hash indicates a **comment**. Anything following the hash symbol will not be evaluated. "
    }
  ],
  "metadata": {
    "kernelspec": {
      "name": "r",
      "display_name": "R",
      "language": "R"
    },
    "language_info": {
      "mimetype": "text/x-r-source",
      "name": "R",
      "pygments_lexer": "r",
      "version": "3.5.3",
      "file_extension": ".r",
      "codemirror_mode": "r"
    }
  },
  "nbformat": 4,
  "nbformat_minor": 2
}