{
 "cells": [
  {
   "cell_type": "markdown",
   "metadata": {},
   "source": [
    "---\n",
    "title: \"R Basics\"\n",
    "output: \n",
    "  html_document:\n",
    "    df_print: paged\n",
    "    toc: true\n",
    "    toc_float:\n",
    "      collapsed: false\n",
    "      smooth_scroll: false\n",
    "    toc_depth: 3\n",
    "---"
   ]
  },
  {
   "cell_type": "code",
   "execution_count": null,
   "metadata": {
    "attributes": {
     "classes": [],
     "id": "",
     "include": "FALSE"
    }
   },
   "outputs": [],
   "source": [
    "knitr::opts_chunk$set(echo = TRUE, cache = TRUE)\n",
    "library(kableExtra)\n",
    "library(knitr)\n",
    "library(tidyverse)\n",
    "library(tibble)\n",
    "library(prettydoc)\n",
    "library(listviewer)\n",
    "library(janitor)\n",
    "library(rorcid)\n",
    "library(png)"
   ]
  },
  {
   "cell_type": "markdown",
   "metadata": {},
   "source": [
    "\\pagebreak\n",
    "\n",
    "# Introduction\n",
    "\n",
    "This guide accompanies the first day of instruction for our course at the 2019 FORCE11 Scholarly Communications Institute: [\"AM4 - Working with Scholarly Literature in R: Pulling, Wrangling, Cleaning, and Analyzing Structured Bibliographic Metadata.\"](https://www.force11.org/fsci/2019/course-abstracts#AM4) It covers basic nuts and bolts of using R.\n",
    "\n",
    "You can copy/paste the code we'll be using for this session [from this page](RBasics_files/code/RBasics_workshopcode.R), or download it from the [Workshop Materials folder LINK WILL BE ADDED SOON]()\n",
    "\n",
    "It is distributed under a [https://creativecommons.org/licenses/by/4.0/](Creative Commons Attribution 4.0 International (CC BY 4.0) License). \n",
    "\n",
    "Workshop code for this module is at https://raw.githubusercontent.com/ciakovx/ciakovx.github.io/master/RBasics_workshopcode.R."
   ]
  },
  {
   "cell_type": "code",
   "execution_count": null,
   "metadata": {
    "attributes": {
     "classes": [],
     "id": "",
     "r,fig.height": "1,echo=FALSE"
    }
   },
   "outputs": [],
   "source": [
    "cc <- readPNG(file.path(\"./images/cc.png\"))\n",
    "grid::grid.raster(cc)"
   ]
  },
  {
   "cell_type": "markdown",
   "metadata": {},
   "source": [
    "# Writing & Evaluating Expressions\n",
    "\n",
    "The *prompt* is the blinking cursor in the console pane prompting you to take action, in the lower-left corner of R Studio. We type *expressions* into the prompt, and press the Enter key to *evaluate* those expressions.\n",
    "\n",
    "You can also use R like a calculator, as you saw in the previous set of exercises."
   ]
  },
  {
   "cell_type": "code",
   "execution_count": null,
   "metadata": {
    "attributes": {
     "classes": [],
     "comment": "NA,",
     "eval": "FALSE",
     "id": ""
    }
   },
   "outputs": [],
   "source": [
    "2 + 2\n",
    "## [1] 4"
   ]
  },
  {
   "cell_type": "markdown",
   "metadata": {},
   "source": [
    "You can perform all kinds of mathematical operations using R, but we will not be covering that in our session today.\n",
    "\n",
    "## Assigning values\n",
    "\n",
    "The first operator you're going to come across is the assignment operator. This is the angle bracket (AKA the \"less than\"\" symbol): `<`, which you'll get by pressing **Shift + comma** and the hyphen `-` which is located next to the zero key. There is no space between them, and it is designed to look like a left pointing arrow `<-`."
   ]
  },
  {
   "cell_type": "code",
   "execution_count": null,
   "metadata": {
    "attributes": {
     "classes": [],
     "eval": "F",
     "id": ""
    }
   },
   "outputs": [],
   "source": [
    "# assign 5 to y by typing this in the console and pressing Enter\n",
    "y <- 5"
   ]
  },
  {
   "cell_type": "markdown",
   "metadata": {},
   "source": [
    "Here I am creating a symbol called `y` and I'm *assigning* it the numeric value 5. Some R users would say \"y *gets* 5.\" Lowercase `y`, is now a *numeric vector* with one element. Or you could say `y` is a numeric vector, and the first element is the number 5. When you assign something to a symbol, nothing happens in the console, but in the Environment pane in the upper right, you will notice a new object, y."
   ]
  },
  {
   "cell_type": "code",
   "execution_count": null,
   "metadata": {
    "attributes": {
     "classes": [],
     "id": "",
     "r,fig.height": "1.5,echo=FALSE"
    }
   },
   "outputs": [],
   "source": [
    "yimg <- readPNG(\"./images/yimg.png\")\n",
    "grid::grid.raster(yimg)"
   ]
  },
  {
   "cell_type": "markdown",
   "metadata": {},
   "source": [
    "## Evaluating Expressions\n",
    "\n",
    "If you now type `y` into the console, and press Enter on your keyboard, R will *evaluate* the expression. In this case, R will *print* the elements that are assigned to `y` (the number 5). We can do this easily since y only has one element, but if you do this with a large dataset loaded into R, it will obliterate your console because it will print the entire thing. The `[1]` indicates that the number 5 is the first element of this vector."
   ]
  },
  {
   "cell_type": "code",
   "execution_count": null,
   "metadata": {
    "attributes": {
     "classes": [],
     "comment": "NA,",
     "eval": "F",
     "id": ""
    }
   },
   "outputs": [],
   "source": [
    "# evaluate y\n",
    "y\n",
    "## [1] 5\n",
    "\n",
    "# you can also use the print() function\n",
    "print(y)\n",
    "## [1] 5"
   ]
  },
  {
   "cell_type": "markdown",
   "metadata": {},
   "source": [
    "Note that you can type *comments* into your code by using the hash symbol `#`. Anything following the hash symbol will not be evaluated. Comments are essential to helping you remember what your code does, and explaining it to others. Commenting code, along with documenting how data is collected and explaining what each variable represents, is essential to [reproducibile research](https://ropensci.github.io/reproducibility-guide/sections/introduction/)."
   ]
  },
  {
   "cell_type": "code",
   "execution_count": null,
   "metadata": {
    "attributes": {
     "classes": [],
     "comment": "NA,",
     "eval": "F",
     "id": ""
    }
   },
   "outputs": [],
   "source": [
    "# add 20 to y\n",
    "y + 20\n",
    "## [1] 25"
   ]
  },
  {
   "cell_type": "markdown",
   "metadata": {},
   "source": [
    "You can assign anything to any variable, and then perform operations on or with that variable. Try typing in the expression `y + 20` and press enter. R prints the number 25 to the console. \n",
    "\n",
    "---\n",
    "\n",
    "**TRY IT YOURSELF**\n",
    "\n",
    "1. Make sure that 5 is assigned to `y` by typing in `y <- 5`\n",
    "2. Assign the number 10 to variable `x`. Add `x` and `y` and evaluate the expression.\n",
    "3. Assign `x + y` to variable `myTotal`. Look in the Environment pane to see what `myTotal` contains.\n",
    "4. Run `View(myTotal)` to see it in the Data Viewer\n",
    "\n",
    "\n",
    "---\n",
    "\n",
    "## Tips for assigning values\n",
    "\n",
    "* **Do not use names of functions that already exist in R:** The assignment operator assigns a value to a symbol. We can pretty much pick any symbol, or name, for that variable, as long as it is not already a function in R. For example, you wouldn't want to name a variable `sum` because if you might end up in a confusing situation writing `sum(sum)`\n",
    "* **R is case sensitive**: It is important to note that R is *case sensitive.* If you try evaluating a capital `Y`, you will be told `Error in eval(expr, envir, enclos): object 'Y' not found`.\n",
    "* **No blank spaces or symbols other than underscores**: R users get around this in a couple of ways, either through capitalization (e.g. `myData`) or underscores (e.g. `my_data`). \n",
    "* **Do not begin with numbers or symbols**: Try to evaluate `1z <- 4` or `%z <- 4` and read the error message.\n",
    "* **Be descriptive, but make your variable names short**: It's good practice to be descriptive with your variable names. If you're loading in a lot of data, choosing `myData` or `x` as a name may not be as helpful as, say, `ebookUsage`. Finally, keep your variable names short, since you will likely be typing them in frequently.\n",
    "\n",
    "\\pagebreak\n",
    "\n",
    "# Calling a function\n",
    "R is a \"functional programming language,\" meaning it contains a number of *functions* you use to do something with your data. *Call* a function on a variable by entering the function into the console, followed by parentheses and the variables. For example, if you want to take the sum of 3 and 4, you can type in `sum(3, 4)`. \n",
    "\n",
    "## Function arguments\n",
    "Typing a question mark before a function will pull the help page up in the Navigation Pane in the lower right. Type `?sum` to view the help page for the `sum` function. You can also call `help(sum)`. This will provide the description of the function, how it is to be used, and the arguments. \n",
    "\n",
    "In the case of `sum()`, the ellipses `. . .` represent an unlimited number of numeric elements. `sum()` also takes the argument `na.rm`. This is a logical (`TRUE/FALSE`) argument specifying if NA values (missing data) should be removed when the argument is evaluated.\n",
    "\n",
    "The function `is.function()` will check if an argument is a function in R. If it is a function, it will print `TRUE` to the console."
   ]
  },
  {
   "cell_type": "code",
   "execution_count": null,
   "metadata": {
    "attributes": {
     "": "",
     "classes": [],
     "comment": "NA,",
     "id": ""
    }
   },
   "outputs": [],
   "source": [
    "# confirm that sum is a function\n",
    "is.function(sum)\n",
    "## [1] TRUE\n",
    "\n",
    "# sum takes an unlimited number (. . .) of numeric elements\n",
    "sum(3, 4, 5, 6, 7)\n",
    "## [1] 25\n",
    "\n",
    "# evaluating a sum with missing values will return NA\n",
    "sum(3, 4, NA)\n",
    "## [1] NA\n",
    "\n",
    "# but setting the argument na.rm to TRUE will remove the NA\n",
    "sum(3, 4, na.rm = TRUE)\n",
    "## [1] 7"
   ]
  },
  {
   "cell_type": "markdown",
   "metadata": {},
   "source": [
    "Functions can be nested within each other. For example, `sqrt()` takes the square root of the number provided in the function call. Therefore you can run `sum(sqrt(9), 4)` to take the sum of the square root of 9 (3) and add it to 4. Or you could write the quadratic formula: `[(-b) + sqrt((b^2) - 4ac)] / (2*a)`.\n",
    "\n",
    "## The `View()` function\n",
    "Use this to open a tab in the Script Pane (upper left) to view your data. I use this all the time. You can also click on the variable name in the Environment Pane (upper right) to do the same thing."
   ]
  },
  {
   "cell_type": "code",
   "execution_count": null,
   "metadata": {
    "attributes": {
     "": "",
     "classes": [],
     "comment": "NA,",
     "id": "",
     "tidy": "F"
    }
   },
   "outputs": [],
   "source": [
    "myDogs <- data.frame(\"breed\" = c(\"beagle\", \"pug\", \"chihuahua\")\n",
    "                   , \"shedding\" = c(\"moderate\", \"high\", \"low\"))\n",
    "View(myDogs)"
   ]
  },
  {
   "cell_type": "markdown",
   "metadata": {},
   "source": [
    "## The `str()` function\n",
    "Type `?str` into the console to read the description of the `str` function. You can call `str()` on an R object to compactly display information about it, including the data type, the number of elements, and a printout of the first few elements. We are going to use `str` in the following sections to investigate R objects, vectors, and data types."
   ]
  },
  {
   "cell_type": "code",
   "execution_count": null,
   "metadata": {
    "attributes": {
     "": "",
     "classes": [],
     "comment": "NA,",
     "id": ""
    }
   },
   "outputs": [],
   "source": [
    "# using str on a function will tell you what arguments it takes\n",
    "str(sum)\n",
    "\n",
    "# using str on an R object will give you information about that object\n",
    "\n"
   ]
  },
  {
   "cell_type": "markdown",
   "metadata": {},
   "source": [
    "## The `c()` function\n",
    "Another important function is `c()` which will combine arguments to form a vector (more on vectors below). In some programs, such as Excel, this is called *concatenation*. If you read the help files for `c()` by calling `help(c)`, you can see that it takes an unlimited `. . .` number of arguments."
   ]
  },
  {
   "cell_type": "code",
   "execution_count": null,
   "metadata": {
    "attributes": {
     "": "",
     "classes": [],
     "comment": "NA,",
     "id": ""
    }
   },
   "outputs": [],
   "source": [
    "# use c() to combine three numbers into a vector, myFives\n",
    "myFives <- c(5, 10, 15)\n",
    "\n",
    "# call str() to see that myFives is a numeric vector of length 3\n",
    "str(myFives)\n",
    "## num [1:3] 5 10 15\n",
    " \n",
    "# adding 5 will operate on each element of the vector. More on vectors below.\n",
    "myFives + 5\n",
    "## [1] 10 15 20"
   ]
  },
  {
   "cell_type": "markdown",
   "metadata": {},
   "source": [
    "\\pagebreak\n",
    "\n",
    "# Vectors\n",
    "Everything you manipulate in R is called an *object*. An object has a *class,* explained below. *Vectors* are the most basic type of object."
   ]
  },
  {
   "cell_type": "code",
   "execution_count": null,
   "metadata": {
    "attributes": {
     "": "",
     "classes": [],
     "comment": "NA,",
     "id": ""
    }
   },
   "outputs": [],
   "source": [
    "# create a vector of consecutive numbers 1-5\n",
    "my_vector <- c(1, 2, 3, 4, 5)\n",
    "\n",
    "# call `str()` to see myVector is a numeric vector of length 5\n",
    "str(my_vector)\n",
    "##  num [1:5] 1 2 3 4 5\n",
    "\n",
    "# Create a random sample of 5000 numbers between 1 and 2 million\n",
    "my_long_vector <- sample(1:2000000, 5000)\n",
    "\n",
    "# Evaluating this in the console will fill up your screen\n",
    "print(my_long_vector)\n",
    "\n",
    "# However, running View() on this vector fills the header with garbage\n",
    "View(my_long_vector)\n",
    "\n",
    "# Run it like this, where you coerce it to a data frame only for viewing purposes. \n",
    "View(as.data.frame(my_long_vector))\n",
    "\n",
    "# You can remove an object by calling rm()\n",
    "rm(my_long_vector)\n",
    "\n",
    "# Remove multiple items like this:\n",
    "rm(list =c(\"my_long_vector\", \"my_vector\"))\n",
    "\n",
    "# Remove everything\n",
    "rm(list = ls())"
   ]
  },
  {
   "cell_type": "markdown",
   "metadata": {},
   "source": [
    "## Data types (type)\n",
    "A vector is a sequence of elements of the same *type*. Vectors can only contain \"homogenous\" data--in other words, all data must be of the same type. The type of a vector determines what kind of analysis you can do on it. For example, you can perform mathematical operations on `numeric` objects, but not on `character` objects. Below I will briefly review some of the data types in R and their type. You can call the `)` function on an R object to find out it's type. For example, running `sum)` will tell you that `sum()` is a function.\n",
    "\n",
    "* Numeric or integer"
   ]
  },
  {
   "cell_type": "code",
   "execution_count": null,
   "metadata": {
    "attributes": {
     "": "",
     "classes": [],
     "comment": "NA,",
     "id": ""
    }
   },
   "outputs": [],
   "source": [
    "# create a vector of consecutive numbers 1-10 using the colon\n",
    "my_integers <- c(1:10)\n",
    "\n",
    "typeof(my_integers)\n",
    "##  [1] \"integer\""
   ]
  },
  {
   "cell_type": "markdown",
   "metadata": {},
   "source": [
    "* Character"
   ]
  },
  {
   "cell_type": "code",
   "execution_count": null,
   "metadata": {
    "attributes": {
     "": "",
     "classes": [],
     "comment": "NA,",
     "id": ""
    }
   },
   "outputs": [],
   "source": [
    "# create a vector of book titles. Even though 1984 is composed of numbers, putting it in quotation marks makes it a character string\n",
    "my_characters <- c(\"Macbeth\", \"Dracula\", \"1984\")\n",
    "\n",
    "typeof(my_characters)\n",
    "##  [1] \"character\"\n",
    "\n",
    "# how many elements in this vector?\n",
    "length(my_characters)\n",
    "## [1] 3"
   ]
  },
  {
   "cell_type": "markdown",
   "metadata": {},
   "source": [
    "* Logical (binary `TRUE/FALSE`)"
   ]
  },
  {
   "cell_type": "code",
   "execution_count": null,
   "metadata": {
    "attributes": {
     "": "",
     "classes": [],
     "comment": "NA,",
     "id": ""
    }
   },
   "outputs": [],
   "source": [
    "# create a logical vector\n",
    "my_logical <- c(TRUE, FALSE, FALSE, TRUE)\n",
    "\n",
    "# you can also use the is.logical (or is.character, is.numeric) to verify an object's class\n",
    "is.logical(my_logical)\n",
    "##  [1] TRUE\n",
    "\n",
    "# you can also create logical vectors to use as an index\n",
    "x <- c(2, 4, 8, 5, 1)\n",
    "\n",
    "# create an index of TRUE/FALSE values where x is greater than 2\n",
    "my_index <- x > 2\n",
    "\n",
    "print(my_index)\n",
    "##  [1] FALSE  TRUE  TRUE  TRUE  FALSE\n",
    "\n",
    "# subset x using that `my_index` in brackets (more on this later)\n",
    "x[my_index]\n",
    "## [1] 4 8 5"
   ]
  },
  {
   "cell_type": "markdown",
   "metadata": {},
   "source": [
    "* Factors\n",
    "    + unordered (nominal)"
   ]
  },
  {
   "cell_type": "code",
   "execution_count": null,
   "metadata": {
    "attributes": {
     "": "",
     "classes": [],
     "comment": "NA,",
     "id": ""
    }
   },
   "outputs": [],
   "source": [
    "# create a vector of type factor of item formats\n",
    "my_nominal_factor <- factor(c(\"book\",\"dissertation\", \"journal\", \"book\", \"dissertation\"))\n",
    " \n",
    "# print a table of the number of items in each format\n",
    "table(my_nominal_factor) \n",
    "## my_nominal_factor\n",
    "##        book dissertation      journal \n",
    "##           2            2            1 "
   ]
  },
  {
   "cell_type": "code",
   "execution_count": null,
   "metadata": {},
   "outputs": [],
   "source": [
    "+ ordered (ordinal)\n",
    "```{r function8, comment=NA, eval = F}\n",
    "# create a vector of type factor of sizes\n",
    "my_ordinal_factor <- c(\"small\", \"medium\", \"large\", \"small\", \"large\")"
   ]
  },
  {
   "cell_type": "markdown",
   "metadata": {},
   "source": [
    "# use the `ordered` function to specify the levels from small to medium to large. Notice that `levels` is an argument of `ordered`\n",
    "my_ordinal_factor <- ordered(my_ordinal_factor\n",
    "                             , levels = c(\"small\", \"medium\", \"large\")) \n",
    "\n",
    "# R now recognizes that small is smaller than medium, which is smaller than large\n",
    "my_ordinal_factor \n",
    "## [1] small medium large small large \n",
    "## Levels: small < medium < large"
   ]
  },
  {
   "cell_type": "code",
   "execution_count": null,
   "metadata": {},
   "outputs": [],
   "source": [
    "\n",
    "\n",
    "If you mix different objects in one vector, R will coerce the vector to be a single class. You can also coerce a vector to be a specific data type. This comes in handy when dealing with ISBNs, which are numeric, but we treat them as characters because we would never perform mathematical operations on them. Coerce data frames by using `as.character` or `as.numeric`, for example.\n",
    "```{r function31, comment=NA, eval = F}\n",
    "# create a vector of consecutive numbers 1-5\n",
    "my_mixed_vector <- c(1:10, \"a\")\n",
    "\n",
    "my_mixed_vector\n",
    "##  [1] \"character\"\n",
    "\n",
    "# coerce the vector to an integer. R replaces the \"a\" with NA because `a` is not an integer\n",
    "my_coerced_vector <- as.integer(my_mixed_vector)\n",
    "## Warning message:\n",
    "## NAs introduced by coercion \n",
    "\n",
    "print(my_coerced_vector)\n",
    "##  [1]  1  2  3  4  5  6  7  8  9 10 NA"
   ]
  },
  {
   "cell_type": "markdown",
   "metadata": {},
   "source": [
    "## Missing values\n",
    "If our data is missing values, we can use `NA` to represent those. R functions have special actions when they encounter NA. How you deal with missing data in your analysis is a decision you will have to make--do you remove it entirely? Do you replace it with zeros? That will depend on your own methodological questions.\n",
    "\n",
    "You can use `is.na()` to test if a value is NA or not. Conversely, use `complete.cases()` to test if a value is not missing."
   ]
  },
  {
   "cell_type": "code",
   "execution_count": null,
   "metadata": {
    "attributes": {
     "": "",
     "classes": [],
     "comment": "NA,",
     "id": ""
    }
   },
   "outputs": [],
   "source": [
    "# this expression has some nesting. I am creating a vector combining a sample of 5 letters `` and a repetition of NA five times `rep(NA, 5)`\n",
    "my_nas <- c(letters[1:5], rep(NA, 5))\n",
    "\n",
    "print(my_nas)\n",
    "##  [1] \"a\" \"b\" \"c\" \"d\" \"e\" NA  NA  NA  NA  NA \n",
    "\n",
    "# Which values are NA?\n",
    "is.na(my_nas)\n",
    "## [1] FALSE FALSE FALSE FALSE FALSE  TRUE  TRUE  TRUE  TRUE  TRUE\n",
    "\n",
    "# Which values are complete? \n",
    "complete.cases(my_nas)\n",
    "##  [1]  TRUE  TRUE  TRUE  TRUE  TRUE FALSE FALSE FALSE FALSE FALSE\n",
    "\n",
    "# How many of each?\n",
    "table(is.na(my_nas))\n",
    "## FALSE  TRUE \n",
    "##    5     5 \n",
    "\n",
    "# use the brackets to subset the data and include complete cases only (more on this later)\n",
    "my_completes <- my_nas[complete.cases(my_nas)]\n",
    "\n",
    "print(my_completes)\n",
    "## [1] \"h\" \"k\" \"y\" \"w\" \"q\""
   ]
  },
  {
   "cell_type": "markdown",
   "metadata": {},
   "source": [
    "Helpful functions to provide information about vectors:\n",
    "\n",
    "* `length()` : number of elements in the vector\n",
    "* `)` : returns the data type\n",
    "* `str()` : compactly displays infomration about the vector\n",
    "* `is.logical()`, `is.numeric()`, `is.character()`, etc. : verifies the data type (TRUE or FALSE)\n",
    "* `as.logical()`, `as.numeric()`, `as.character()`, etc. : coerces the vector from one data type to another\n",
    "* `is.na()` or `complete.cases()` : returns logical (TRUE/FALSE) vector of values that are NA or, conversely, that are complete\n",
    "\n",
    "---\n",
    "\n",
    "**TRY IT YOURSELF**\n",
    "\n",
    "1. Assign the sum of 20 and 40 to variable `mySum`\n",
    "2. Use `is.function()` to check if `average` is a function. Use it to see if `mean` is a function.\n",
    "3. Combine 5, 10, 15, NA into a vector `my_vec`\n",
    "4. Write an expression to get the average of the numbers in `my_vec`. Remove the NA if necessary.\n",
    "5. Evaluate the following expressions and look at the return values."
   ]
  },
  {
   "cell_type": "code",
   "execution_count": null,
   "metadata": {
    "attributes": {
     "": "",
     "classes": [],
     "comment": "NA,",
     "id": ""
    }
   },
   "outputs": [],
   "source": [
    "my_numeric <- c(1, 2, 3, 4, 5)\n",
    "my_characters <- c(\"Macbeth\", \"Dracula\", \"1984\", \"Jane Eyre\", \"Beowulf\")\n",
    "my_logical <- c(TRUE, FALSE, FALSE, TRUE, FALSE)\n",
    "\n",
    "nchar(my_characters)\n",
    "table(nchar(my_characters))\n",
    "nchar(\"my_characters\")\n",
    "\n",
    "my_numeric + 2\n",
    "as.numeric(my_logical)\n",
    "my_numeric + my_logical\n",
    "\n",
    "my_numeric > 3\n",
    "my_numeric[my_numeric > 3]\n",
    "\n",
    "c(my_numeric, NA)\n",
    "is.na(c(my_numeric, NA))\n",
    "\n",
    "c(my_numeric, \"NA\")\n",
    "is.na(c(my_numeric, \"NA\"))\n",
    "\n",
    "my_numeric[my_logical]\n",
    "my_characters[my_logical]\n",
    "my_numeric[\"my_logical\"]"
   ]
  },
  {
   "cell_type": "markdown",
   "metadata": {},
   "source": [
    "---\n",
    "\n",
    "## Subsetting vectors\n",
    "You can use the brackets to subset a vector. Brackets can take either numeric values (which will correspond to the element in the order it exists in the vector) or logical (T/F) values. You can also use functions such as `which()`, that return numeric values."
   ]
  },
  {
   "cell_type": "code",
   "execution_count": null,
   "metadata": {
    "attributes": {
     "": "",
     "classes": [],
     "comment": "NA,",
     "id": ""
    }
   },
   "outputs": [],
   "source": [
    "# state.name is a built in vector in R of all U.S. states\n",
    "state.name\n",
    "\n",
    "state.name[1]\n",
    "## [1] \"Alabama\"\n",
    "\n",
    "state.name[1:5]\n",
    "## [1] \"Alabama\"    \"Alaska\"     \"Arizona\"    \"Arkansas\"   \"California\"\n",
    "\n",
    "# You must use the `c()` function if you have more than one value\n",
    "state.name[1, 10, 20]\n",
    "## Error in state.name[1, 10, 20] : incorrect number of dimensions\n",
    "\n",
    "state.name[c(1, 10, 20)]\n",
    "## [1] \"Alabama\"  \"Georgia\"  \"Maryland\"\n",
    "\n",
    "# There's only one state called Alabama\n",
    "table(state.name == \"Alabama\")\n",
    "## FALSE  TRUE \n",
    "##    49     1 \n",
    "\n",
    "# create a logical vector of state names where \"Alabama\" == TRUE. Notice you have to use two equals signs.\n",
    "myAlabamaIndex <- state.name == \"Alabama\"\n",
    "myAlabamaIndex\n",
    "## TRUE FALSE FALSE FALSE FALSE FALSE FALSE FALSE FALSE FALSE FALSE FALSE FALSE FALSE FALSE FALSE FALSE FALSE FALSE FALSE FALSE FALSE FALSE FALSE FALSE FALSE FALSE FALSE FALSE FALSE FALSE FALSE FALSE FALSE FALSE FALSE FALSE FALSE FALSE FALSE FALSE FALSE FALSE FALSE FALSE FALSE FALSE FALSE FALSE FALSE\n",
    "\n",
    "# subset state.name using that T/F index (will return the only value where myAlabamaIndex == TRUE)\n",
    "state.name[myAlabamaIndex]\n",
    "## [1] \"Alabama\"\n",
    "\n",
    "# create a logical vector of state names with more than 10 character names\n",
    "ten_characters <- nchar(state.name) > 10\n",
    "\n",
    "# you can find out which elements are TRUE values by using the `which()` function\n",
    "which(ten_characters)\n",
    "\n",
    "# subset state.names using `which()`\n",
    "ten_character_state.names <- state.name[ten_characters]\n",
    "\n",
    "ten_character_state.names\n",
    "## [1] \"Connecticut\"    \"Massachusetts\"  \"Mississippi\"    \"New Hampshire\"  \"North Carolina\" \"North Dakota\"   \"Pennsylvania\"  \n",
    "## [8] \"Rhode Island\"   \"South Carolina\" \"South Dakota\"   \"West Virginia\" "
   ]
  },
  {
   "cell_type": "markdown",
   "metadata": {},
   "source": [
    "---\n",
    "\n",
    "**TRY IT YOURSELF**\n",
    "\n",
    "1. Subset `state.name` to include only element number 25. What state is element 25?\n",
    "2. Subset `state.name` to include elements 3, 12, and 40. You will need to use the `c()` function.\n",
    "2. Alabama is element number 1. What element number is New York?\n",
    "4. Use the `table()` and the `nchar()` functions to find out how many state names have more than 7 characters. \n",
    "5. Create a vector of only these states.\n",
    "\n",
    "---\n",
    "\n",
    "\\pagebreak\n",
    "\n",
    "# Data frames\n",
    "A data frame is the term in R for a spreadsheet style of data: a grid of rows and columns. The number of columns and rows is virtually unlimited, but each column must be a vector of the same length. A dataframe can comprise heterogeneous data: in other words, each column can be a different data type. However, because a column is a vector, it has to be a single data type. \n",
    "\n",
    "## Create a data frame\n",
    "You will likely be importing your dataset, but it is easy to create a data frames on your own:"
   ]
  },
  {
   "cell_type": "code",
   "execution_count": null,
   "metadata": {
    "attributes": {
     "": "",
     "classes": [],
     "comment": "NA,",
     "id": ""
    }
   },
   "outputs": [],
   "source": [
    "# create three vectors\n",
    "title <- c(\"Macbeth\",\"Dracula\",\"1984\")\n",
    "author <- c(\"Shakespeare\",\"Stoker\",\"Orwell\")\n",
    "checkouts <- c(25, 15, 18)\n",
    "available <- c(TRUE, FALSE, FALSE)\n",
    "\n",
    "# create a data frame using the data.frame() function. Specify stringsAsFactors as FALSE\n",
    "ebooks <- data.frame(title, author, checkouts, stringsAsFactors = F)"
   ]
  },
  {
   "cell_type": "markdown",
   "metadata": {},
   "source": [
    "You can print small data frames like this to the console using `print(ebooks)`"
   ]
  },
  {
   "cell_type": "code",
   "execution_count": null,
   "metadata": {
    "attributes": {
     "": "",
     "classes": [],
     "comment": "NA,",
     "echo": "F",
     "id": ""
    }
   },
   "outputs": [],
   "source": [
    "title <- c(\"Macbeth\",\"Dracula\",\"1984\")\n",
    "author <- c(\"Shakespeare\",\"Stoker\",\"Orwell\")\n",
    "checkouts <- c(25, 15, 18)\n",
    "\n",
    "# create a data frame using the data.frame() function. Specify stringsAsFactors as FALSE\n",
    "ebooks <- data.frame(title, author, checkouts, stringsAsFactors = F)\n",
    "print(ebooks)"
   ]
  },
  {
   "cell_type": "markdown",
   "metadata": {},
   "source": [
    "But for larger data frames, it's best to use the `View()` function: `View(ebooks)`. You can also use `head()` to see a preview (in this particular case, the data frame is too small to preview).\n",
    "\n",
    "All you Excel users might be wondering: how do I click in a cell and edit it?! R doesn't work like that. If you want to manipulate values, it's best to do it with an expression in the R console, and have all modifications documented in your script. We will be going into how to do these modifications next session. But if you insist, you can pull up a traditional point-and-click spreadsheet by using the `edit()` function: `edit(ebooks)`. \n",
    "\n",
    "## Exploring data frames\n",
    "There are a number of ways to explore your data frame:"
   ]
  },
  {
   "cell_type": "code",
   "execution_count": null,
   "metadata": {
    "attributes": {
     "": "",
     "classes": [],
     "comment": "NA,",
     "id": ""
    }
   },
   "outputs": [],
   "source": [
    "#display information about the data frame\n",
    "str(ebooks)\n",
    "\n",
    "# dimensions: 3 rows, 3 columns\n",
    "dim(ebooks)\n",
    "## [1] 3 3\n",
    "\n",
    "# number of rows\n",
    "nrow(ebooks)\n",
    "## [1] 3\n",
    "\n",
    "# number of columns\n",
    "ncol(ebooks)\n",
    "## [1] 3\n",
    "\n",
    "# column names\n",
    "names(ebooks)\n",
    "## [1] \"title\"     \"author\"    \"checkouts\""
   ]
  },
  {
   "cell_type": "markdown",
   "metadata": {},
   "source": [
    "You can use the `$` symbol to work with particular variables."
   ]
  },
  {
   "cell_type": "code",
   "execution_count": null,
   "metadata": {
    "attributes": {
     "": "",
     "classes": [],
     "comment": "NA,",
     "id": ""
    }
   },
   "outputs": [],
   "source": [
    "print(ebooks$title)\n",
    "\n",
    "class(ebooks$title)\n",
    "## [1] \"character\"\n",
    "\n",
    "class(ebooks$checkouts)\n",
    "## [1] \"numeric\"\n",
    "\n",
    "# use summary() for more detail on a variable\n",
    "summary(ebooks$checkouts)\n",
    "##  Min. 1st Qu.  Median    Mean 3rd Qu.    Max. \n",
    "## 15.00   16.50   18.00   19.33   21.50   25.00 "
   ]
  },
  {
   "cell_type": "markdown",
   "metadata": {},
   "source": [
    "---\n",
    "\n",
    "**TRY IT YOURSELF**\n",
    "\n",
    "1. Look at the help file for `state.name`\n",
    "2. Manually construct three vectors: `stateName`, `division`, and `area`."
   ]
  },
  {
   "cell_type": "code",
   "execution_count": null,
   "metadata": {
    "attributes": {
     "classes": [],
     "comment": "NA,",
     "echo": "F",
     "id": "",
     "results": "'asis',"
    }
   },
   "outputs": [],
   "source": [
    "states <- data.frame(\"stateName\" = state.name[c(2,  3,  5,  6, 26)]\n",
    "                        , \"division\" = state.division[c(2,  3,  5,  6, 26)]\n",
    "                        , \"area\" = as.integer(10000*ceiling(state.area[c(2,  3,  5,  6, 26)]/10000))\n",
    "                        ,  stringsAsFactors = F)\n",
    "states"
   ]
  },
  {
   "cell_type": "markdown",
   "metadata": {},
   "source": [
    "3. Use `data.frame()` to create a data frame of these three vectors. Assign it to `myStates`. Remember to set `stringsAsFactors` to `FALSE`\n",
    "4. What is the `)` of each vector?\n",
    "5. Using the `$` character, run `sum()` on the `area` variable. What is the sum area of these five states? What is the median?\n",
    "\n",
    "\n",
    "---\n",
    "\n",
    "\\pagebreak\n",
    "\n",
    "# Next session\n",
    "\n",
    "Next session we will be doing more advanced work with data, including importing and exploring data files. If you want a head start:\n",
    "\n",
    "* Read the help pages for `help(setwd)` and  `help(read.table)`. See if you can change your working directory and load a CSV file into R.\n",
    "* Read the [overview for `tidyverse`](http://tidyverse.tidyverse.org/) and install it by running `install.packages(\"tidyverse\")` in your console. After installing, run `library(tidyverse)` and read the help pages for: `help(select)`\n",
    "* Review some of the help resources in Part A of this guide"
   ]
  }
 ],
 "metadata": {},
 "nbformat": 4,
 "nbformat_minor": 2
}
