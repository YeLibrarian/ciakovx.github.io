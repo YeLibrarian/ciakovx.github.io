{
  "cells": [
    {
      "metadata": {},
      "cell_type": "markdown",
      "source": "## binder link to this notebook:\n\n[![Binder](https://mybinder.org/badge_logo.svg)](https://mybinder.org/v2/gh/ciakovx/ciakovx.github.io/master?filepath=RBasics.ipynb)"
    },
    {
      "metadata": {},
      "cell_type": "markdown",
      "source": "# R Basics\n\n<div>\n    <br>\n    <a>\n        <img src=\"images/R.png\" style=\"width: 200px;\">\n    </a>\n    <br>\n</div>\n\n\n## Writing &amp; Evaluating Expressions\n\nThe *prompt* is the blinking cursor in a Code cell prompting you to take action. We type *expressions* into the prompt, and press Ctrl + Enter to *evaluate* those expressions.\n\nEvaluate this expression:"
    },
    {
      "metadata": {
        "trusted": true
      },
      "cell_type": "code",
      "source": "# Press Ctrl + Enter or click the Run button to evaluate 2 + 2\n2 + 2",
      "execution_count": null,
      "outputs": []
    },
    {
      "metadata": {},
      "cell_type": "markdown",
      "source": "## Assigning values\n\nThe first operator you're going to come across is the assignment operator. This is the angle bracket (AKA the \"less than\"\" symbol): `&lt;`, which you'll get by pressing **Shift + comma** and the hyphen `-` which is located next to the zero key. There is no space between them, and it is designed to look like a left pointing arrow `&lt;-`. \n\n"
    },
    {
      "metadata": {
        "trusted": true
      },
      "cell_type": "code",
      "source": "# assign 5 to y\ny <- 5",
      "execution_count": null,
      "outputs": []
    },
    {
      "metadata": {},
      "cell_type": "markdown",
      "source": "Here I am creating a symbol called `y` and I'm *assigning* it the numeric value 5. Some R users would say \"y *gets* 5.\" Lowercase `y`, is now a *numeric vector* with one element. Or you could say `y` is a numeric vector, and the first element is the number 5. When you assign something to a symbol, nothing happens in the console, but in the Environment pane in the upper right, you will notice a new object, y.\n\nIf you now type y into the console, and press Enter on your keyboard, R will evaluate the expression. In this case, R will print the elements that are assigned to y (the number 5). We can do this easily since y only has one element, but if you do this with a large dataset loaded into R, it will obliterate your console because it will print the entire thing. The [1] indicates that the number 5 is the first element of this vector."
    },
    {
      "metadata": {
        "trusted": true
      },
      "cell_type": "code",
      "source": "# evaluate y\ny",
      "execution_count": null,
      "outputs": []
    },
    {
      "metadata": {},
      "cell_type": "markdown",
      "source": "As we saw above, you can also use the `print()` function:"
    },
    {
      "metadata": {
        "trusted": true
      },
      "cell_type": "code",
      "source": "# using print() will do the same thing as just typing the variable in, it just makes it explicit\nprint(y)",
      "execution_count": null,
      "outputs": []
    },
    {
      "metadata": {},
      "cell_type": "markdown",
      "source": "---\n**TRY IT YOURSELF**\n\n1. Use the new code cells below. Make sure that 5 is assigned to `y` by typing in `y <- 5`\n2. Assign the number 10 to variable `x`. Add `x` and `y` and evaluate the expression.\n3. Assign `x + y` to variable `myTotal`. "
    },
    {
      "metadata": {
        "trusted": true
      },
      "cell_type": "code",
      "source": "# assign 5 to y\ny <- 5",
      "execution_count": null,
      "outputs": []
    },
    {
      "metadata": {
        "trusted": true
      },
      "cell_type": "code",
      "source": "# assign 10 to x\nx <- 10",
      "execution_count": null,
      "outputs": []
    },
    {
      "metadata": {
        "trusted": true
      },
      "cell_type": "code",
      "source": "# assign the sum of x and y to myTotal. Print myTotal to the console.\nmyTotal <- x + y\nmyTotal\nprint(myTotal)\n\n",
      "execution_count": null,
      "outputs": []
    },
    {
      "metadata": {},
      "cell_type": "markdown",
      "source": "### Tips for assigning values\n\n* **Do not use names of functions that already exist in R:** The assignment operator assigns a value to a symbol. We can pretty much pick any symbol, or name, for that variable, as long as it is not already a function in R. For example, you wouldn't want to name a variable `sum` because if you might end up in a confusing situation writing `sum(sum)`\n* **R is case sensitive**: It is important to note that R is *case sensitive.* If you try evaluating a capital `Y`, you will be told `Error in eval(expr, envir, enclos): object 'Y' not found`.\n* **No blank spaces or symbols other than underscores**: R users get around this in a couple of ways, either through capitalization (e.g. `myData`) or underscores (e.g. `my_data`). \n* **Do not begin with numbers or symbols**: Try to evaluate `1z &lt;- 4` or `%z &lt;- 4` and read the error message.\n* **Be descriptive, but make your variable names short**: It's good practice to be descriptive with your variable names. If you're loading in a lot of data, choosing `myData` or `x` as a name may not be as helpful as, say, `ebookUsage`. Finally, keep your variable names short, since you will likely be typing them in frequently.\n\n"
    },
    {
      "metadata": {},
      "cell_type": "markdown",
      "source": "## Calling a function\n\nR is a “functional programming language,” meaning it contains a number of functions you use to do something with your data. Call a function on a variable by entering the function into the console, followed by parentheses and the variables. "
    },
    {
      "metadata": {
        "scrolled": true,
        "trusted": true
      },
      "cell_type": "code",
      "source": "# take the square root of the sum of 2 + 2\nsum(2, 2)\n?sum",
      "execution_count": null,
      "outputs": []
    },
    {
      "metadata": {},
      "cell_type": "markdown",
      "source": "Typing a question mark before a function will pull the help page up in the Navigation Pane in the lower right. Type `?sum` to view the help page for the `sum` function. You can also call `help(sum)`. This will provide the description of the function, how it is to be used, and the arguments. \n\nIn the case of `sum()`, the ellipses `. . .` represent an unlimited number of numeric elements. `sum()` also takes the argument `na.rm`. This is a logical (`TRUE/FALSE`) argument specifying if NA values (missing data) should be removed when the argument is evaluated.\n\nThe function `is.function()` will check if an argument is a function in R. If it is a function, it will print `TRUE` to the console.\n"
    },
    {
      "metadata": {
        "trusted": true
      },
      "cell_type": "code",
      "source": "# confirm that sum is a function\nis.function(sum)",
      "execution_count": null,
      "outputs": []
    },
    {
      "metadata": {
        "trusted": true
      },
      "cell_type": "code",
      "source": "# sum takes an unlimited number (. . .) of numeric elements\nsum(3, 4, 5, 6, 7)",
      "execution_count": null,
      "outputs": []
    },
    {
      "metadata": {
        "trusted": true
      },
      "cell_type": "code",
      "source": "# evaluating a sum with missing values will return NA\nsum(3, 4, NA)",
      "execution_count": null,
      "outputs": []
    },
    {
      "metadata": {
        "trusted": true
      },
      "cell_type": "code",
      "source": "# look at the help file for sum\n?sum",
      "execution_count": null,
      "outputs": []
    },
    {
      "metadata": {
        "trusted": true
      },
      "cell_type": "code",
      "source": "# but setting the argument na.rm to TRUE will remove the NA\nsum(3, 4, na.rm = TRUE)",
      "execution_count": null,
      "outputs": []
    },
    {
      "metadata": {},
      "cell_type": "markdown",
      "source": "Functions can be nested within each other. For example, `sqrt()` takes the square root of the number provided in the function call. Therefore you can run `sum(sqrt(9), 4)` to take the sum of the square root of 9 (3) and add it to 4. Or you could write the quadratic formula: `[(-b) + sqrt((b^2) - 4ac)] / (2*a)`."
    },
    {
      "metadata": {},
      "cell_type": "markdown",
      "source": "## The `c()` function"
    },
    {
      "metadata": {},
      "cell_type": "markdown",
      "source": "A vector is a sequence of elements of the same *type*. Vectors can only contain \"homogenous\" data--in other words, all data must be of the same type. The type of a vector determines what kind of analysis you can do on it. For example, you can perform mathematical operations on `numeric` objects, but not on `character` objects.\n\nAnother important function is `c()` which will combine arguments to form a vector. In some programs, such as Excel, this is called *concatenation*. If you read the help files for `c()` by calling `help(c)`, you can see that it takes an unlimited `. . .` number of arguments."
    },
    {
      "metadata": {
        "trusted": true
      },
      "cell_type": "code",
      "source": "# use c() to combine three numbers into a vector, myFives\nmyFives <- c(5, 10, 15)",
      "execution_count": null,
      "outputs": []
    },
    {
      "metadata": {
        "trusted": true
      },
      "cell_type": "code",
      "source": "# call str() to see that myFives is a numeric vector of length 3\nstr(myFives)",
      "execution_count": null,
      "outputs": []
    },
    {
      "metadata": {
        "trusted": true
      },
      "cell_type": "code",
      "source": "# adding 5 will operate on each element of the vector. More on vectors below.\nmyFives + 5",
      "execution_count": null,
      "outputs": []
    },
    {
      "metadata": {},
      "cell_type": "markdown",
      "source": "## Missing values\n\nIf our data is missing values, we can use `NA` to represent those. R functions have special actions when they encounter NA. How you deal with missing data in your analysis is a decision you will have to make--do you remove it entirely? Do you replace it with zeros? That will depend on your own methodological questions.\n\nYou can use `is.na()` to test if a value is NA or not. Conversely, use `complete.cases()` to test if a value is not missing."
    },
    {
      "metadata": {
        "trusted": true
      },
      "cell_type": "code",
      "source": "# Create a vector combining a sample of the first 5 letters of the alphabet and a repetition of NA five times `rep(NA, 5)`\nmy_nas <- c(letters[1:5], rep(NA, 5))\n\n# print my_nas to the console\nmy_nas",
      "execution_count": null,
      "outputs": []
    },
    {
      "metadata": {
        "trusted": true
      },
      "cell_type": "code",
      "source": "# Which values are NA?\nis.na(my_nas)",
      "execution_count": null,
      "outputs": []
    },
    {
      "metadata": {
        "trusted": true
      },
      "cell_type": "code",
      "source": "# Which values are complete? \ncomplete.cases(my_nas)",
      "execution_count": null,
      "outputs": []
    },
    {
      "metadata": {
        "trusted": true
      },
      "cell_type": "code",
      "source": "# use the brackets to subset the data and include complete cases only\nmy_nas[complete.cases(my_nas)]",
      "execution_count": null,
      "outputs": []
    },
    {
      "metadata": {},
      "cell_type": "markdown",
      "source": "Helpful functions to provide information about vectors:\n\n* `length()` : number of elements in the vector\n* `class()` : returns the data type\n* `str()` : compactly displays infomration about the vector\n* `is.logical()`, `is.numeric()`, `is.character()`, etc. : verifies the data type (TRUE or FALSE)\n* `as.logical()`, `as.numeric()`, `as.character()`, etc. : coerces the vector from one data type to another\n* `is.na()` or `complete.cases()` : returns logical (TRUE/FALSE) vector of values that are NA or, conversely, that are complete\n\n---\n**TRY IT YOURSELF**\n\n1. Use `is.function()` to check if `average` is a function. Use it to see if `mean` is a function.\n2. Combine 5, 10, 15, NA into a vector `my_vec`\n3. Write an expression to get the average of the numbers in `my_vec`. Remove the NA if necessary."
    },
    {
      "metadata": {
        "trusted": true
      },
      "cell_type": "code",
      "source": "# Assign the sum of 20 and 40 to variable `mySum`\n",
      "execution_count": null,
      "outputs": []
    },
    {
      "metadata": {
        "trusted": true
      },
      "cell_type": "code",
      "source": "is.function(average)",
      "execution_count": null,
      "outputs": []
    },
    {
      "metadata": {
        "trusted": true
      },
      "cell_type": "code",
      "source": "is.function(mean)",
      "execution_count": null,
      "outputs": []
    },
    {
      "metadata": {
        "trusted": true
      },
      "cell_type": "code",
      "source": "# Combine 5, 10, 15, NA into a vector `my_vec`\nmy_vec <- ",
      "execution_count": null,
      "outputs": []
    },
    {
      "metadata": {
        "trusted": true
      },
      "cell_type": "code",
      "source": "# Write an expression to get the average of the numbers in `my_vec`. Remove the NA if necessary.\n",
      "execution_count": null,
      "outputs": []
    },
    {
      "metadata": {},
      "cell_type": "markdown",
      "source": "## Subsetting vectors\n\nYou can use the brackets to subset a vector. Brackets can take either numeric values (which will correspond to the element in the order it exists in the vector) or logical (T/F) values. You can also use functions such as `which()`, that return numeric values."
    },
    {
      "metadata": {
        "trusted": true
      },
      "cell_type": "code",
      "source": "# state.name is a built in vector in R of all U.S. states\nstate.name",
      "execution_count": null,
      "outputs": []
    },
    {
      "metadata": {
        "trusted": true
      },
      "cell_type": "code",
      "source": "# use [1] after the state.name vector to print the first state\nstate.name[1]\n## [1] \"Alabama\"\n\n# use [1:5] to print the first 5 states\nstate.name[1:5]\n## [1] \"Alabama\"    \"Alaska\"     \"Arizona\"    \"Arkansas\"   \"California\"\n\n# You must use the `c()` function if you have more than one non-consecutive value\nstate.name[c(1, 10, 20)]\n## [1] \"Alabama\"  \"Georgia\"  \"Maryland\"",
      "execution_count": null,
      "outputs": []
    },
    {
      "metadata": {
        "trusted": true
      },
      "cell_type": "code",
      "source": "# This function will scan through each value in the vector and check to see if the \"Alabama\" string matches.\n# Notice it returns only one TRUE: the first item\nstate.name == \"Alabama\"",
      "execution_count": null,
      "outputs": []
    },
    {
      "metadata": {
        "trusted": true
      },
      "cell_type": "code",
      "source": "# which elements in the state.name vector match \"Alabama?\"\nwhich(state.name == \"Alabama\")",
      "execution_count": null,
      "outputs": []
    },
    {
      "metadata": {
        "trusted": true
      },
      "cell_type": "code",
      "source": "# subset state.name using the same TRUE/FALSE index\nstate.name[state.name == \"Alabama\"]",
      "execution_count": null,
      "outputs": []
    },
    {
      "metadata": {},
      "cell_type": "markdown",
      "source": "---\n**TRY IT YOURSELF**"
    },
    {
      "metadata": {
        "trusted": true
      },
      "cell_type": "code",
      "source": "# Subset `state.name` to include only element number 25. What state is element 25?\n\n",
      "execution_count": null,
      "outputs": []
    },
    {
      "metadata": {
        "trusted": true
      },
      "cell_type": "code",
      "source": "# Subset `state.name` to include elements 3, 12, and 40. You will need to use the `c()` function.\n",
      "execution_count": null,
      "outputs": []
    },
    {
      "metadata": {
        "trusted": true
      },
      "cell_type": "code",
      "source": "# Alabama is element number 1. What element number is New York?\n",
      "execution_count": null,
      "outputs": []
    }
  ],
  "metadata": {
    "kernelspec": {
      "name": "r",
      "display_name": "R",
      "language": "R"
    },
    "language_info": {
      "mimetype": "text/x-r-source",
      "name": "R",
      "pygments_lexer": "r",
      "version": "3.5.3",
      "file_extension": ".r",
      "codemirror_mode": "r"
    }
  },
  "nbformat": 4,
  "nbformat_minor": 2
}